{
 "cells": [
  {
   "cell_type": "code",
   "execution_count": 1,
   "metadata": {},
   "outputs": [],
   "source": [
    "import numpy as np"
   ]
  },
  {
   "cell_type": "code",
   "execution_count": 12,
   "metadata": {},
   "outputs": [
    {
     "data": {
      "text/plain": [
       "array([14. , 10. , 10.6, 15.5])"
      ]
     },
     "execution_count": 12,
     "metadata": {},
     "output_type": "execute_result"
    }
   ],
   "source": [
    "vec1 = np.array([2, 4, 7, 2.5])\n",
    "vec2 = np.array([12, 6, 3.6, 13])\n",
    "\n",
    "vec1 + vec2"
   ]
  },
  {
   "cell_type": "code",
   "execution_count": 4,
   "metadata": {},
   "outputs": [
    {
     "data": {
      "text/plain": [
       "[2, 4, 7, 2.5, 12, 6, 3.6, 13]"
      ]
     },
     "execution_count": 4,
     "metadata": {},
     "output_type": "execute_result"
    }
   ],
   "source": [
    "list1 = [2, 4, 7, 2.5]\n",
    "list2 = [12, 6, 3.6, 13]\n",
    "\n",
    "list1+list2"
   ]
  },
  {
   "cell_type": "code",
   "execution_count": 8,
   "metadata": {},
   "outputs": [
    {
     "name": "stdout",
     "output_type": "stream",
     "text": [
      "[(2, 12), (4, 6), (7, 3.6), (2.5, 13)]\n"
     ]
    },
    {
     "data": {
      "text/plain": [
       "[14, 10, 10.6, 15.5]"
      ]
     },
     "execution_count": 8,
     "metadata": {},
     "output_type": "execute_result"
    }
   ],
   "source": [
    "print(list(zip(list1, list2)))\n",
    "[x + y for x, y in zip(list1, list2)]"
   ]
  },
  {
   "cell_type": "code",
   "execution_count": 13,
   "metadata": {},
   "outputs": [
    {
     "data": {
      "text/plain": [
       "array([24. , 24. , 25.2, 32.5])"
      ]
     },
     "execution_count": 13,
     "metadata": {},
     "output_type": "execute_result"
    }
   ],
   "source": [
    "vec1*vec2\n",
    "# вектора должны быть одинаковой длины"
   ]
  },
  {
   "cell_type": "code",
   "execution_count": 16,
   "metadata": {},
   "outputs": [],
   "source": [
    "vec1 = np.array([1, 2, 3])\n",
    "vec2 = np.array([5, 6, 7, 8])\n",
    "\n",
    "# длина неодинаково, поэтому возникает ошибка\n",
    "# vec1+vec2\n",
    "# vec1*vec2"
   ]
  },
  {
   "cell_type": "code",
   "execution_count": 20,
   "metadata": {},
   "outputs": [
    {
     "name": "stdout",
     "output_type": "stream",
     "text": [
      "[False False False  True]\n",
      "[False False  True  True]\n"
     ]
    }
   ],
   "source": [
    "vec1 = np.array([1, 2, 3, 10])\n",
    "vec2 = np.array([5, 6, 7, 8])\n",
    "\n",
    "print(vec1 > vec2)\n",
    "print(vec1 >= 3)"
   ]
  },
  {
   "cell_type": "code",
   "execution_count": 23,
   "metadata": {},
   "outputs": [
    {
     "name": "stdout",
     "output_type": "stream",
     "text": [
      "[0 1 2 3 4 5]\n"
     ]
    },
    {
     "data": {
      "text/plain": [
       "array([0, 1, 2, 3, 4, 5])"
      ]
     },
     "execution_count": 23,
     "metadata": {},
     "output_type": "execute_result"
    }
   ],
   "source": [
    "vec1 = np.arange(6)\n",
    "print(vec1) #массив выводится без запятых\n",
    "vec1"
   ]
  },
  {
   "cell_type": "code",
   "execution_count": 25,
   "metadata": {},
   "outputs": [
    {
     "name": "stdout",
     "output_type": "stream",
     "text": [
      "5.0\n",
      "5.0\n"
     ]
    }
   ],
   "source": [
    "# Длина вектора\n",
    "\n",
    "vec = np.array([3, 4])\n",
    "\n",
    "length = np.sqrt(np.sum(vec**2))\n",
    "print(length)\n",
    "\n",
    "print(np.linalg.norm(vec))"
   ]
  },
  {
   "cell_type": "code",
   "execution_count": 29,
   "metadata": {},
   "outputs": [
    {
     "name": "stdout",
     "output_type": "stream",
     "text": [
      "[0 2 4]\n",
      "[20  6 15]\n",
      "23.173260452512935\n",
      "23.173260452512935\n"
     ]
    }
   ],
   "source": [
    "# Расстояние между векторами\n",
    "\n",
    "vec1 = np.arange(6, step=2)\n",
    "print(vec1)\n",
    "\n",
    "vec2 = np.random.randint(1,21, size=3)\n",
    "print(vec2)\n",
    "\n",
    "distance = np.sqrt(np.sum((vec1 - vec2)**2))\n",
    "print(distance)\n",
    "\n",
    "distance = np.linalg.norm(vec1-vec2)\n",
    "print(distance)"
   ]
  },
  {
   "attachments": {},
   "cell_type": "markdown",
   "metadata": {},
   "source": [
    "Скалярное произведение "
   ]
  },
  {
   "cell_type": "code",
   "execution_count": 33,
   "metadata": {},
   "outputs": [
    {
     "name": "stdout",
     "output_type": "stream",
     "text": [
      "[2 3 4 5 6]\n",
      "[10.  12.5 15.  17.5 20. ]\n",
      "325.0\n"
     ]
    }
   ],
   "source": [
    "vec1 = np.arange(2, 7)\n",
    "vec2 = np.linspace(10, 20, 5)\n",
    "print(vec1, vec2, sep='\\n')\n",
    "\n",
    "scalar_product = np.sum(vec1*vec2)\n",
    "print(scalar_product)"
   ]
  },
  {
   "cell_type": "code",
   "execution_count": 34,
   "metadata": {},
   "outputs": [
    {
     "name": "stdout",
     "output_type": "stream",
     "text": [
      "325.0\n"
     ]
    }
   ],
   "source": [
    "# Скалярное произведение\n",
    "\n",
    "scalar_product = np.dot(vec1, vec2)\n",
    "print(scalar_product)"
   ]
  },
  {
   "cell_type": "code",
   "execution_count": 37,
   "metadata": {},
   "outputs": [],
   "source": [
    "a = np.array([23, 34, 27])\n",
    "b = np.array([-54, 1,  46])\n",
    "c = np.array([46, 68, 54])\n",
    "\n",
    "# сумма длин сонаправленных векторов должна быть равной \n",
    "# длине суммы двух векторов"
   ]
  },
  {
   "cell_type": "code",
   "execution_count": 39,
   "metadata": {},
   "outputs": [
    {
     "name": "stdout",
     "output_type": "stream",
     "text": [
      "49.13247398615299\n",
      "70.94363960215179\n",
      "98.26494797230598\n"
     ]
    }
   ],
   "source": [
    "# Длины векторов\n",
    "\n",
    "alength = np.linalg.norm(a)\n",
    "print(alength)\n",
    "\n",
    "blength = np.linalg.norm(b)\n",
    "print(blength)\n",
    "\n",
    "clength = np.linalg.norm(c)\n",
    "print(clength)"
   ]
  },
  {
   "cell_type": "code",
   "execution_count": 40,
   "metadata": {},
   "outputs": [
    {
     "name": "stdout",
     "output_type": "stream",
     "text": [
      "False\n"
     ]
    }
   ],
   "source": [
    "# а и б сонаправлены?\n",
    "\n",
    "print(alength+blength == np.linalg.norm(a+b))"
   ]
  },
  {
   "cell_type": "code",
   "execution_count": 41,
   "metadata": {},
   "outputs": [
    {
     "name": "stdout",
     "output_type": "stream",
     "text": [
      "True\n"
     ]
    }
   ],
   "source": [
    "# а и c сонаправлены?\n",
    "\n",
    "print(alength+clength == np.linalg.norm(a+c))"
   ]
  },
  {
   "cell_type": "code",
   "execution_count": 42,
   "metadata": {},
   "outputs": [
    {
     "name": "stdout",
     "output_type": "stream",
     "text": [
      "False\n"
     ]
    }
   ],
   "source": [
    "# b и c сонаправлены?\n",
    "\n",
    "print(blength+clength == np.linalg.norm(b+c))"
   ]
  },
  {
   "cell_type": "code",
   "execution_count": 45,
   "metadata": {},
   "outputs": [
    {
     "name": "stdout",
     "output_type": "stream",
     "text": [
      "85.901105930017\n",
      "49.13247398615299\n",
      "120.6358155772986\n"
     ]
    }
   ],
   "source": [
    "# Найдите пару векторов, расстояние между которыми больше 100.\n",
    "\n",
    "# a, b\n",
    "print(np.linalg.norm(a-b))\n",
    "\n",
    "# a, c\n",
    "print(np.linalg.norm(a-c))\n",
    "\n",
    "# b, c\n",
    "print(np.linalg.norm(b-c))\n"
   ]
  },
  {
   "cell_type": "code",
   "execution_count": 48,
   "metadata": {},
   "outputs": [
    {
     "name": "stdout",
     "output_type": "stream",
     "text": [
      "34\n",
      "4828\n",
      "68\n"
     ]
    }
   ],
   "source": [
    "# Найдите пару перпендикулярных векторов с помощью скалярного произведения (оно должно быть равно нулю)\n",
    "print(np.dot(a, b))\n",
    "\n",
    "print(np.dot(a, c))\n",
    "\n",
    "print(np.dot(c, b))"
   ]
  },
  {
   "cell_type": "code",
   "execution_count": 49,
   "metadata": {},
   "outputs": [
    {
     "name": "stdout",
     "output_type": "stream",
     "text": [
      "2\n",
      "28\n"
     ]
    }
   ],
   "source": [
    "# Минимальное и максимальное значение в векторе\n",
    "\n",
    "vec = np.array([2, 7, 18, 28, 5, 6])\n",
    "\n",
    "print(vec.min())\n",
    "\n",
    "print(vec.max())"
   ]
  },
  {
   "cell_type": "code",
   "execution_count": 50,
   "metadata": {},
   "outputs": [
    {
     "name": "stdout",
     "output_type": "stream",
     "text": [
      "11.0\n"
     ]
    }
   ],
   "source": [
    "# Среднее значение для вектора\n",
    "\n",
    "print(vec.mean())"
   ]
  },
  {
   "cell_type": "code",
   "execution_count": 52,
   "metadata": {},
   "outputs": [
    {
     "name": "stdout",
     "output_type": "stream",
     "text": [
      "[23 34 27]\n"
     ]
    },
    {
     "data": {
      "text/plain": [
       "27.0"
      ]
     },
     "execution_count": 52,
     "metadata": {},
     "output_type": "execute_result"
    }
   ],
   "source": [
    "# Функция median() вычисляет медиану элементов массива.\n",
    "# numpy.median(a, axis=None, out=None, overwrite_input=False, keepdims=False)\n",
    "\n",
    "print(a)\n",
    "np.median(a)"
   ]
  },
  {
   "cell_type": "code",
   "execution_count": 59,
   "metadata": {},
   "outputs": [
    {
     "name": "stdout",
     "output_type": "stream",
     "text": [
      "[23 34 27]\n",
      "4.55\n",
      "28.0\n",
      "4.546060565661953\n"
     ]
    }
   ],
   "source": [
    "# Функция std() вычисляет среднеквадратичное (стандартное) отклонение значений элементов массива.\n",
    "# numpy.std(a, axis=None, dtype=None, out=None, ddof=0, keepdims=<no value>)\n",
    "# standart deviation\n",
    "\n",
    "print(a)\n",
    "print(round(np.std(a),2))\n",
    "print(np.sum(a)/len(a))\n",
    "print(np.linalg.norm(28-a)/np.sqrt((len(a))))"
   ]
  }
 ],
 "metadata": {
  "kernelspec": {
   "display_name": "Python 3",
   "language": "python",
   "name": "python3"
  },
  "language_info": {
   "codemirror_mode": {
    "name": "ipython",
    "version": 3
   },
   "file_extension": ".py",
   "mimetype": "text/x-python",
   "name": "python",
   "nbconvert_exporter": "python",
   "pygments_lexer": "ipython3",
   "version": "3.9.13 (tags/v3.9.13:6de2ca5, May 17 2022, 16:36:42) [MSC v.1929 64 bit (AMD64)]"
  },
  "orig_nbformat": 4,
  "vscode": {
   "interpreter": {
    "hash": "5e4b12a92563b6c688ef0c9c2d7a30db9fe64b969b648f905de0fc95c1223ca1"
   }
  }
 },
 "nbformat": 4,
 "nbformat_minor": 2
}
