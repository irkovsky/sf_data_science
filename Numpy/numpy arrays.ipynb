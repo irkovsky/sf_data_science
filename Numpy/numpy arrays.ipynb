{
 "cells": [
  {
   "attachments": {},
   "cell_type": "markdown",
   "metadata": {},
   "source": [
    "- Элемент по любому номеру из массива можно получить за одно и то же время. \n",
    "\n",
    "- Обычно такое быстродействие массивов достигается за счёт того, что все элементы в массиве приведены к одному и тому же типу данных. \n",
    "\n",
    "- Обладают заданной программистом длиной.\n",
    "\n",
    "- Объём выделенной памяти заданы заранее."
   ]
  },
  {
   "attachments": {},
   "cell_type": "markdown",
   "metadata": {},
   "source": [
    "Параметры:\n",
    "- размерность массива;\n",
    "- длина массива;\n",
    "- количество памяти, выделяемое на элемент;\n",
    "- форма массива - размерность и длина по каждой оси;\n",
    "\n"
   ]
  },
  {
   "cell_type": "code",
   "execution_count": 1,
   "metadata": {},
   "outputs": [],
   "source": [
    "import numpy as np"
   ]
  },
  {
   "cell_type": "code",
   "execution_count": 2,
   "metadata": {},
   "outputs": [
    {
     "name": "stdout",
     "output_type": "stream",
     "text": [
      "[ 1  5  2  9 10]\n",
      "<class 'numpy.ndarray'>\n",
      "int32\n"
     ]
    }
   ],
   "source": [
    "arr = np.array([1, 5, 2, 9, 10])\n",
    "print(arr)\n",
    "print(type(arr)) # n-dimensional array\n",
    "\n",
    "print(arr.dtype)"
   ]
  },
  {
   "cell_type": "code",
   "execution_count": 3,
   "metadata": {},
   "outputs": [
    {
     "name": "stdout",
     "output_type": "stream",
     "text": [
      "[[12 45 78]\n",
      " [34 56 13]\n",
      " [12 98 76]]\n",
      "int32\n"
     ]
    }
   ],
   "source": [
    "arr_sq = np.array([\n",
    "    [12, 45, 78],\n",
    "    [34, 56, 13],\n",
    "    [12, 98, 76]\n",
    "])\n",
    "arr_sq\n",
    "print(arr_sq)\n",
    "\n",
    "print(arr_sq.dtype)"
   ]
  },
  {
   "cell_type": "code",
   "execution_count": 4,
   "metadata": {},
   "outputs": [
    {
     "name": "stdout",
     "output_type": "stream",
     "text": [
      "int8\n"
     ]
    }
   ],
   "source": [
    "arr_sq = np.int8(arr_sq)\n",
    "print(arr_sq.dtype)"
   ]
  },
  {
   "cell_type": "code",
   "execution_count": 5,
   "metadata": {},
   "outputs": [
    {
     "name": "stdout",
     "output_type": "stream",
     "text": [
      "[ 1  5  2  9 10]\n",
      "int8\n",
      "[ 1  5 -4  9 10]\n",
      "[ 1  5 10  9 10]\n"
     ]
    }
   ],
   "source": [
    "arr = np.int8(arr)\n",
    "\n",
    "print(arr)\n",
    "print(arr.dtype)\n",
    "\n",
    "arr[2] = -260\n",
    "print(arr)\n",
    "\n",
    "arr[2] = '10' # преобразуется в число\n",
    "print(arr)\n",
    "\n",
    "# arr[2] = 'test' # ValueError\n"
   ]
  },
  {
   "cell_type": "code",
   "execution_count": 6,
   "metadata": {},
   "outputs": [
    {
     "name": "stdout",
     "output_type": "stream",
     "text": [
      "[ 33  46 107  42 100]\n"
     ]
    }
   ],
   "source": [
    "arr = np.array([12321, -1234, 3435, -214, 100], dtype=np.int8)\n",
    "print(arr)"
   ]
  },
  {
   "attachments": {},
   "cell_type": "markdown",
   "metadata": {},
   "source": [
    "СВОЙСТВА NUMPY-МАССИВОВ"
   ]
  },
  {
   "cell_type": "code",
   "execution_count": 7,
   "metadata": {},
   "outputs": [
    {
     "name": "stdout",
     "output_type": "stream",
     "text": [
      "1\n",
      "2\n"
     ]
    }
   ],
   "source": [
    "# размерность\n",
    "print(arr.ndim)\n",
    "print(arr_sq.ndim)"
   ]
  },
  {
   "cell_type": "code",
   "execution_count": 8,
   "metadata": {},
   "outputs": [
    {
     "name": "stdout",
     "output_type": "stream",
     "text": [
      "5\n",
      "9\n"
     ]
    }
   ],
   "source": [
    "# число элементов в массиве\n",
    "print(arr.size)\n",
    "print(arr_sq.size)"
   ]
  },
  {
   "cell_type": "code",
   "execution_count": 9,
   "metadata": {},
   "outputs": [
    {
     "name": "stdout",
     "output_type": "stream",
     "text": [
      "(5,)\n",
      "(3, 3)\n",
      "[[12 45 78]\n",
      " [34 56 13]\n",
      " [12 98 76]]\n"
     ]
    }
   ],
   "source": [
    "# форма или структура массива\n",
    "print(arr.shape)\n",
    "print(arr_sq.shape)\n",
    "print(arr_sq)"
   ]
  },
  {
   "cell_type": "code",
   "execution_count": 10,
   "metadata": {},
   "outputs": [
    {
     "name": "stdout",
     "output_type": "stream",
     "text": [
      "1\n",
      "1\n"
     ]
    }
   ],
   "source": [
    "# сколько весит каждый элемент\n",
    "print(arr.itemsize)\n",
    "print(arr_sq.itemsize)"
   ]
  },
  {
   "attachments": {},
   "cell_type": "markdown",
   "metadata": {},
   "source": [
    "ЗАПОЛНЕНИЕ НОВЫХ МАССИВОВ"
   ]
  },
  {
   "attachments": {},
   "cell_type": "markdown",
   "metadata": {},
   "source": [
    "**arr = np.zeros(num)**\n",
    "\n",
    "**arr = np.arange([start,] stop, [step,], dtype=None)**\n",
    "\n",
    "**np.linspace(start, stop, num=50, endpoint=True, retstep=False, dtype=None)**"
   ]
  },
  {
   "cell_type": "code",
   "execution_count": 11,
   "metadata": {},
   "outputs": [
    {
     "name": "stdout",
     "output_type": "stream",
     "text": [
      "[0 0 0 0 0]\n"
     ]
    }
   ],
   "source": [
    "zeros_arr = np.zeros(5, dtype=np.int8)\n",
    "print(zeros_arr)"
   ]
  },
  {
   "cell_type": "code",
   "execution_count": 12,
   "metadata": {},
   "outputs": [
    {
     "name": "stdout",
     "output_type": "stream",
     "text": [
      "[[[0. 0. 0.]\n",
      "  [0. 0. 0.]\n",
      "  [0. 0. 0.]\n",
      "  [0. 0. 0.]]\n",
      "\n",
      " [[0. 0. 0.]\n",
      "  [0. 0. 0.]\n",
      "  [0. 0. 0.]\n",
      "  [0. 0. 0.]]\n",
      "\n",
      " [[0. 0. 0.]\n",
      "  [0. 0. 0.]\n",
      "  [0. 0. 0.]\n",
      "  [0. 0. 0.]]\n",
      "\n",
      " [[0. 0. 0.]\n",
      "  [0. 0. 0.]\n",
      "  [0. 0. 0.]\n",
      "  [0. 0. 0.]]\n",
      "\n",
      " [[0. 0. 0.]\n",
      "  [0. 0. 0.]\n",
      "  [0. 0. 0.]\n",
      "  [0. 0. 0.]]]\n"
     ]
    }
   ],
   "source": [
    "tr_zero_arr = np.zeros((5,4,3), dtype=np.float16)\n",
    "print(tr_zero_arr)"
   ]
  },
  {
   "cell_type": "code",
   "execution_count": 13,
   "metadata": {},
   "outputs": [
    {
     "name": "stdout",
     "output_type": "stream",
     "text": [
      "[1 2 3 4 5]\n"
     ]
    }
   ],
   "source": [
    "arr = np.arange(1, 6, 1, dtype=np.int8)\n",
    "print(arr)"
   ]
  },
  {
   "cell_type": "code",
   "execution_count": 14,
   "metadata": {},
   "outputs": [
    {
     "name": "stdout",
     "output_type": "stream",
     "text": [
      "[2.5 3.  3.5 4.  4.5 5.  5.5 6.  6.5]\n"
     ]
    }
   ],
   "source": [
    "print(np.arange(2.5, 7, 0.5, dtype=np.float16))"
   ]
  },
  {
   "cell_type": "code",
   "execution_count": 15,
   "metadata": {},
   "outputs": [
    {
     "name": "stdout",
     "output_type": "stream",
     "text": [
      "0.46\n",
      "[-6.         -5.54237288 -5.08474576 -4.62711864 -4.16949153 -3.71186441\n",
      " -3.25423729 -2.79661017 -2.33898305 -1.88135593 -1.42372881 -0.96610169\n",
      " -0.50847458 -0.05084746  0.40677966  0.86440678  1.3220339   1.77966102\n",
      "  2.23728814  2.69491525  3.15254237  3.61016949  4.06779661  4.52542373\n",
      "  4.98305085  5.44067797  5.89830508  6.3559322   6.81355932  7.27118644\n",
      "  7.72881356  8.18644068  8.6440678   9.10169492  9.55932203 10.01694915\n",
      " 10.47457627 10.93220339 11.38983051 11.84745763 12.30508475 12.76271186\n",
      " 13.22033898 13.6779661  14.13559322 14.59322034 15.05084746 15.50847458\n",
      " 15.96610169 16.42372881 16.88135593 17.33898305 17.79661017 18.25423729\n",
      " 18.71186441 19.16949153 19.62711864 20.08474576 20.54237288 21.        ]\n"
     ]
    }
   ],
   "source": [
    "arr, step = np.linspace(-6, 21, 60, retstep=True)\n",
    "print(round(step, 2))\n",
    "print(arr)"
   ]
  },
  {
   "cell_type": "code",
   "execution_count": null,
   "metadata": {},
   "outputs": [],
   "source": []
  },
  {
   "cell_type": "code",
   "execution_count": 16,
   "metadata": {},
   "outputs": [
    {
     "name": "stdout",
     "output_type": "stream",
     "text": [
      "0.45\n"
     ]
    }
   ],
   "source": [
    "arr, step = np.linspace(-6, 21, 60, endpoint=False, retstep=True)\n",
    "print(round(step, 2))"
   ]
  },
  {
   "cell_type": "code",
   "execution_count": 17,
   "metadata": {},
   "outputs": [
    {
     "name": "stdout",
     "output_type": "stream",
     "text": [
      "[('a', 1), ('b', 2), ('c', 3)]\n"
     ]
    }
   ],
   "source": [
    "list1 = ['a', 'b', 'c']\n",
    "list2 = [1, 2, 3]\n",
    "print(list(zip(list1, list2)))"
   ]
  }
 ],
 "metadata": {
  "kernelspec": {
   "display_name": "Python 3",
   "language": "python",
   "name": "python3"
  },
  "language_info": {
   "codemirror_mode": {
    "name": "ipython",
    "version": 3
   },
   "file_extension": ".py",
   "mimetype": "text/x-python",
   "name": "python",
   "nbconvert_exporter": "python",
   "pygments_lexer": "ipython3",
   "version": "3.9.13"
  },
  "orig_nbformat": 4,
  "vscode": {
   "interpreter": {
    "hash": "5e4b12a92563b6c688ef0c9c2d7a30db9fe64b969b648f905de0fc95c1223ca1"
   }
  }
 },
 "nbformat": 4,
 "nbformat_minor": 2
}
