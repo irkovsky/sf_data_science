{
 "cells": [
  {
   "cell_type": "code",
   "execution_count": 1,
   "metadata": {},
   "outputs": [],
   "source": [
    "import numpy as np"
   ]
  },
  {
   "cell_type": "code",
   "execution_count": 2,
   "metadata": {},
   "outputs": [
    {
     "data": {
      "text/plain": [
       "array([[[ 78,  49,   4,  92,  74],\n",
       "        [ 16,  93,  65,  71,  85],\n",
       "        [ 11,  63,  49,  33,  65],\n",
       "        [ 15,  15,  56,  27,  40],\n",
       "        [ 69,  83,  28,  48,  86]],\n",
       "\n",
       "       [[ 72,  86,   6,  56,  85],\n",
       "        [ 47,   3,  75,  36,  56],\n",
       "        [ 99,  18,  17,  51,  33],\n",
       "        [  5,  48,  34,  82,  21],\n",
       "        [ 99,  37, 100,   2,  63]],\n",
       "\n",
       "       [[ 31,  46,  39,   4,   2],\n",
       "        [ 23,  20,  11,  18,  38],\n",
       "        [ 59,  54,  67,  12,  30],\n",
       "        [  5,   5,  26,  69,  47],\n",
       "        [ 74,  29,  25,  89,  45]]])"
      ]
     },
     "execution_count": 2,
     "metadata": {},
     "output_type": "execute_result"
    }
   ],
   "source": [
    "def get_loto(num):\n",
    "    arr = np.random.randint(1, 101, size=(num, 5, 5))\n",
    "    return arr\n",
    "\n",
    "get_loto(3)"
   ]
  },
  {
   "cell_type": "code",
   "execution_count": 19,
   "metadata": {},
   "outputs": [
    {
     "data": {
      "text/plain": [
       "array([[[69., 96., 92., 79., 50.],\n",
       "        [19., 22., 44., 33., 62.],\n",
       "        [15., 91., 48., 65., 34.],\n",
       "        [98., 43., 24., 55., 31.],\n",
       "        [90., 63., 80., 20., 73.]],\n",
       "\n",
       "       [[64., 66., 94., 16., 30.],\n",
       "        [40., 99., 93., 22., 85.],\n",
       "        [92., 14., 47., 29., 44.],\n",
       "        [17., 48., 56.,  4., 55.],\n",
       "        [71., 63., 19., 67., 72.]]])"
      ]
     },
     "execution_count": 19,
     "metadata": {},
     "output_type": "execute_result"
    }
   ],
   "source": [
    "def get_unique_loto(num):\n",
    "    arr = np.zeros((num, 5, 5))\n",
    "    \n",
    "    for i in range(num):\n",
    "        #print(arr[i])\n",
    "        arr[i] = np.random.choice(range(1, 101), size=(5, 5), replace=False)\n",
    "    return arr\n",
    "\n",
    "get_unique_loto(2)"
   ]
  },
  {
   "cell_type": "code",
   "execution_count": 36,
   "metadata": {},
   "outputs": [
    {
     "name": "stdout",
     "output_type": "stream",
     "text": [
      "True\n"
     ]
    }
   ],
   "source": [
    "def any_normal(*args):\n",
    "    for i in range(len(args)):\n",
    "        for k in range(i+1, len(args)):\n",
    "            if np.dot(args[i], args[k]) == 0: return True\n",
    "                \n",
    "    return False\n",
    "    \n",
    "\n",
    "vec1 = np.array([2, 1])\n",
    "vec2 = np.array([-1, 2])\n",
    "vec3 = np.array([3, 4])\n",
    "print(any_normal(vec1, vec2, vec3))"
   ]
  },
  {
   "cell_type": "code",
   "execution_count": 37,
   "metadata": {},
   "outputs": [
    {
     "data": {
      "text/plain": [
       "(5.196152422706632, 10.392304845413264)"
      ]
     },
     "execution_count": 37,
     "metadata": {},
     "output_type": "execute_result"
    }
   ],
   "source": [
    "def min_max_dist(*args):\n",
    "    min_dist = np.linalg.norm(args[0]-args[1])\n",
    "    max_dist = min_dist\n",
    "    \n",
    "    for i in range(len(args)):\n",
    "        for k in range(i+1, len(args)):\n",
    "            distance = np.linalg.norm(args[i]-args[k])\n",
    "            if min_dist > distance: min_dist = distance\n",
    "            elif max_dist < distance: max_dist = distance\n",
    "                                              \n",
    "    return min_dist, max_dist\n",
    "    \n",
    "\n",
    "vec1 = np.array([1,2,3])\n",
    "vec2 = np.array([4,5,6])\n",
    "vec3 = np.array([7, 8, 9])\n",
    " \n",
    "min_max_dist(vec1, vec2, vec3)"
   ]
  },
  {
   "cell_type": "code",
   "execution_count": 53,
   "metadata": {},
   "outputs": [
    {
     "name": "stdout",
     "output_type": "stream",
     "text": [
      "([5, 1, 0, 4, 3, 2], 2414413334)\n"
     ]
    }
   ],
   "source": [
    "def shuffle_seed(arr):\n",
    "    seed = np.random.randint(2**32, dtype=np.int64)\n",
    "    np.random.seed(seed)\n",
    "    \n",
    "    np.random.shuffle(arr)\n",
    "    \n",
    "    return arr, seed\n",
    "    \n",
    "print(shuffle_seed([0, 5, 1, 3, 2, 4]))"
   ]
  },
  {
   "cell_type": "code",
   "execution_count": 120,
   "metadata": {},
   "outputs": [
    {
     "data": {
      "text/plain": [
       "array([[0., 1., 0., 1., 0.],\n",
       "       [1., 0., 1., 0., 1.],\n",
       "       [0., 1., 0., 1., 0.],\n",
       "       [1., 0., 1., 0., 1.],\n",
       "       [0., 1., 0., 1., 0.]])"
      ]
     },
     "execution_count": 120,
     "metadata": {},
     "output_type": "execute_result"
    }
   ],
   "source": [
    "def get_chess(a):  \n",
    "    arr = np.zeros((a, a))\n",
    "    \n",
    "    arr[::2, 1::2] = 1\n",
    "    arr[1::2, ::2] = 1\n",
    "\n",
    "    return arr\n",
    "\n",
    "get_chess(5)\n"
   ]
  }
 ],
 "metadata": {
  "kernelspec": {
   "display_name": "Python 3",
   "language": "python",
   "name": "python3"
  },
  "language_info": {
   "codemirror_mode": {
    "name": "ipython",
    "version": 3
   },
   "file_extension": ".py",
   "mimetype": "text/x-python",
   "name": "python",
   "nbconvert_exporter": "python",
   "pygments_lexer": "ipython3",
   "version": "3.9.13 (tags/v3.9.13:6de2ca5, May 17 2022, 16:36:42) [MSC v.1929 64 bit (AMD64)]"
  },
  "orig_nbformat": 4,
  "vscode": {
   "interpreter": {
    "hash": "5e4b12a92563b6c688ef0c9c2d7a30db9fe64b969b648f905de0fc95c1223ca1"
   }
  }
 },
 "nbformat": 4,
 "nbformat_minor": 2
}
