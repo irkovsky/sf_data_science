{
 "cells": [
  {
   "cell_type": "code",
   "execution_count": 1,
   "metadata": {},
   "outputs": [],
   "source": [
    "import numpy as np"
   ]
  },
  {
   "cell_type": "code",
   "execution_count": 6,
   "metadata": {},
   "outputs": [
    {
     "name": "stdout",
     "output_type": "stream",
     "text": [
      "[8 8 3]\n",
      "[7 7 0]\n",
      "[4 2 5]\n",
      "[2 2 2]\n",
      "[1 0 8]\n",
      "[4 0 9]\n"
     ]
    }
   ],
   "source": [
    "np.random.seed(100)\n",
    "print(np.random.randint(10, size=3))\n",
    "# [8 8 3]\n",
    "print(np.random.randint(10, size=3))\n",
    "# [7 7 0]\n",
    "print(np.random.randint(10, size=3))\n",
    "# [4 2 5]\n",
    "\n",
    "print(np.random.randint(10, size=3))\n",
    "print(np.random.randint(10, size=3))\n",
    "print(np.random.randint(10, size=3))"
   ]
  },
  {
   "cell_type": "code",
   "execution_count": 18,
   "metadata": {},
   "outputs": [
    {
     "data": {
      "text/plain": [
       "array([ 195.58477565,  789.95190737,  456.49528607, 1936.41269943,\n",
       "         63.04491026,  733.58734431, -131.81473573, 1083.25593615,\n",
       "       1101.81980713,  147.74019134, 1309.38650688,  160.17886231])"
      ]
     },
     "execution_count": 18,
     "metadata": {},
     "output_type": "execute_result"
    }
   ],
   "source": [
    "randoms = np.random.uniform(-150, 2021, 12)\n",
    "randoms"
   ]
  },
  {
   "cell_type": "code",
   "execution_count": 16,
   "metadata": {},
   "outputs": [
    {
     "data": {
      "text/plain": [
       "array([[ 60,  60],\n",
       "       [ 25,  93],\n",
       "       [100,   7]], dtype=int8)"
      ]
     },
     "execution_count": 16,
     "metadata": {},
     "output_type": "execute_result"
    }
   ],
   "source": [
    "table = np.random.randint(1, 101, (3, 2), dtype=np.int8)\n",
    "table"
   ]
  },
  {
   "cell_type": "code",
   "execution_count": 21,
   "metadata": {},
   "outputs": [
    {
     "name": "stdout",
     "output_type": "stream",
     "text": [
      "[12  2  6]\n"
     ]
    },
    {
     "data": {
      "text/plain": [
       "array([ 2, 12,  6], dtype=int8)"
      ]
     },
     "execution_count": 21,
     "metadata": {},
     "output_type": "execute_result"
    }
   ],
   "source": [
    "even = np.arange(2, 17, step=2, dtype=np.int8)\n",
    "even\n",
    "\n",
    "mix = even\n",
    "np.random.shuffle(mix)\n",
    "mix\n",
    "\n",
    "select = np.random.choice(even, size=3, replace=False)\n",
    "print(select)\n",
    "\n",
    "triplet = np.random.permutation(select)\n",
    "triplet\n"
   ]
  },
  {
   "cell_type": "code",
   "execution_count": 23,
   "metadata": {},
   "outputs": [
    {
     "name": "stdout",
     "output_type": "stream",
     "text": [
      "[[93 46]\n",
      " [50 56]\n",
      " [89 19]]\n",
      "[[25 65]\n",
      " [44 17]\n",
      " [59 21]]\n"
     ]
    }
   ],
   "source": [
    "np.random.seed(2022)\n",
    "table1 = np.random.randint(1, 101, (3, 2))\n",
    "table2 = np.random.randint(1, 101, (3, 2), dtype=np.int8)\n",
    "\n",
    "print(table1, table2, sep='\\n')\n"
   ]
  }
 ],
 "metadata": {
  "kernelspec": {
   "display_name": "Python 3",
   "language": "python",
   "name": "python3"
  },
  "language_info": {
   "codemirror_mode": {
    "name": "ipython",
    "version": 3
   },
   "file_extension": ".py",
   "mimetype": "text/x-python",
   "name": "python",
   "nbconvert_exporter": "python",
   "pygments_lexer": "ipython3",
   "version": "3.9.13 (tags/v3.9.13:6de2ca5, May 17 2022, 16:36:42) [MSC v.1929 64 bit (AMD64)]"
  },
  "orig_nbformat": 4,
  "vscode": {
   "interpreter": {
    "hash": "5e4b12a92563b6c688ef0c9c2d7a30db9fe64b969b648f905de0fc95c1223ca1"
   }
  }
 },
 "nbformat": 4,
 "nbformat_minor": 2
}
