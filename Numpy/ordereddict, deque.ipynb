{
 "cells": [
  {
   "cell_type": "code",
   "execution_count": 25,
   "metadata": {},
   "outputs": [],
   "source": [
    "from collections import *"
   ]
  },
  {
   "cell_type": "code",
   "execution_count": 26,
   "metadata": {},
   "outputs": [
    {
     "name": "stdout",
     "output_type": "stream",
     "text": [
      "{'Mark': 23, 'Maria': 28, 'Mike': 18, 'Richard': 25, 'Sintya': 17}\n",
      "{'Mark': 23, 'Maria': 28, 'Mike': 18, 'Richard': 25, 'Sintya': 17}\n"
     ]
    }
   ],
   "source": [
    "data = [('Mark', 23), ('Maria', 28), ('Mike', 18), ('Richard', 25), ('Sintya', 17)]\n",
    "print(dict(data))\n",
    "print(dict(data))"
   ]
  },
  {
   "cell_type": "code",
   "execution_count": 27,
   "metadata": {},
   "outputs": [
    {
     "name": "stdout",
     "output_type": "stream",
     "text": [
      "{'Mark': 23, 'Maria': 28, 'Mike': 18, 'Richard': 25, 'Sintya': 17}\n",
      "{'Mark': 23, 'Maria': 28, 'Mike': 18, 'Richard': 25, 'Sintya': 17}\n"
     ]
    }
   ],
   "source": [
    "d = dict(data)\n",
    "print(d)\n",
    "print(d)"
   ]
  },
  {
   "cell_type": "code",
   "execution_count": 28,
   "metadata": {},
   "outputs": [
    {
     "name": "stdout",
     "output_type": "stream",
     "text": [
      "{'Mark': 23, 'Maria': 28, 'Mike': 18, 'Richard': 25, 'Sintya': 17}\n",
      "{'Mark': 23, 'Maria': 28, 'Mike': 18, 'Richard': 25, 'Sintya': 17}\n"
     ]
    }
   ],
   "source": [
    "d = {'Mark': 23, 'Maria': 28, 'Mike': 18, 'Richard': 25, 'Sintya': 17}\n",
    "print(d)\n",
    "print(d)"
   ]
  },
  {
   "cell_type": "code",
   "execution_count": 29,
   "metadata": {},
   "outputs": [
    {
     "name": "stdout",
     "output_type": "stream",
     "text": [
      "OrderedDict([('Mark', 23), ('Maria', 28), ('Mike', 18), ('Richard', 25), ('Sintya', 17)])\n"
     ]
    }
   ],
   "source": [
    "od = OrderedDict(data)\n",
    "print(od)"
   ]
  },
  {
   "cell_type": "code",
   "execution_count": 30,
   "metadata": {},
   "outputs": [
    {
     "name": "stdout",
     "output_type": "stream",
     "text": [
      "OrderedDict([('Mark', 23), ('Maria', 28), ('Mike', 18), ('Richard', 25), ('Sintya', 17)])\n",
      "['Mark', 'Maria', 'Mike', 'Richard', 'Sintya']\n",
      "17\n"
     ]
    }
   ],
   "source": [
    "d = {'Mark': 23, 'Maria': 28, 'Mike': 18, 'Richard': 25, 'Sintya': 17}\n",
    "od = OrderedDict(d)\n",
    "print(od)\n",
    "print(list(d))\n",
    "\n",
    "print(od['Sintya'])"
   ]
  },
  {
   "cell_type": "code",
   "execution_count": 31,
   "metadata": {},
   "outputs": [
    {
     "name": "stdout",
     "output_type": "stream",
     "text": [
      "OrderedDict([('Mark', 23), ('Mike', 18), ('Richard', 25), ('Sintya', 17)])\n"
     ]
    }
   ],
   "source": [
    "del od['Maria']\n",
    "print(od)"
   ]
  },
  {
   "cell_type": "code",
   "execution_count": 32,
   "metadata": {},
   "outputs": [
    {
     "name": "stdout",
     "output_type": "stream",
     "text": [
      "OrderedDict([('Mark', 23), ('Mike', 18), ('Richard', 25), ('Sintya', 17), ('Maria', 28)])\n"
     ]
    }
   ],
   "source": [
    "od['Maria'] = 28\n",
    "print(od)"
   ]
  },
  {
   "cell_type": "code",
   "execution_count": 33,
   "metadata": {},
   "outputs": [
    {
     "name": "stdout",
     "output_type": "stream",
     "text": [
      "[('Maria', 28), ('Mark', 23), ('Mike', 18), ('Richard', 25), ('Sintya', 17)]\n",
      "[('Sintya', 17), ('Mike', 18), ('Mark', 23), ('Richard', 25), ('Maria', 28)]\n",
      "OrderedDict([('Sintya', 17), ('Mike', 18), ('Mark', 23), ('Richard', 25), ('Maria', 28)])\n"
     ]
    }
   ],
   "source": [
    "print(sorted(data))\n",
    "print(sorted(data, key = lambda x: x[1]))\n",
    "\n",
    "print(OrderedDict(sorted(data, key = lambda x: x[1])))"
   ]
  },
  {
   "cell_type": "code",
   "execution_count": 34,
   "metadata": {},
   "outputs": [
    {
     "name": "stdout",
     "output_type": "stream",
     "text": [
      "3.9.13 (tags/v3.9.13:6de2ca5, May 17 2022, 16:36:42) [MSC v.1929 64 bit (AMD64)]\n"
     ]
    }
   ],
   "source": [
    "import sys\n",
    "print(sys.version)"
   ]
  },
  {
   "cell_type": "code",
   "execution_count": 35,
   "metadata": {},
   "outputs": [
    {
     "name": "stdout",
     "output_type": "stream",
     "text": [
      "deque([])\n"
     ]
    }
   ],
   "source": [
    "from collections import deque\n",
    "\n",
    "dq = deque()\n",
    "print(dq)"
   ]
  },
  {
   "cell_type": "code",
   "execution_count": 36,
   "metadata": {},
   "outputs": [
    {
     "name": "stdout",
     "output_type": "stream",
     "text": [
      "deque(['Ivanov', 'Petrov', 'Smirnov', 'Tikhonova'])\n"
     ]
    }
   ],
   "source": [
    "clients = deque()\n",
    "clients.append('Ivanov')\n",
    "clients.append('Petrov')\n",
    "clients.append('Smirnov')\n",
    "clients.append('Tikhonova')\n",
    "\n",
    "print(clients)"
   ]
  },
  {
   "cell_type": "code",
   "execution_count": 37,
   "metadata": {},
   "outputs": [
    {
     "name": "stdout",
     "output_type": "stream",
     "text": [
      "Ivanov\n"
     ]
    }
   ],
   "source": [
    "print(clients[0])"
   ]
  },
  {
   "cell_type": "code",
   "execution_count": 38,
   "metadata": {},
   "outputs": [
    {
     "name": "stdout",
     "output_type": "stream",
     "text": [
      "deque(['Smirnov', 'Tikhonova'])\n",
      "Ivanov Petrov\n"
     ]
    }
   ],
   "source": [
    "first_client = clients.popleft()\n",
    "second_client = clients.popleft()\n",
    "\n",
    "print(clients)\n",
    "print(first_client, second_client)"
   ]
  },
  {
   "cell_type": "code",
   "execution_count": 39,
   "metadata": {},
   "outputs": [
    {
     "name": "stdout",
     "output_type": "stream",
     "text": [
      "deque(['vip-client', 'Smirnov', 'Tikhonova'])\n"
     ]
    }
   ],
   "source": [
    "clients.appendleft('vip-client')\n",
    "print(clients)"
   ]
  },
  {
   "cell_type": "code",
   "execution_count": 40,
   "metadata": {},
   "outputs": [
    {
     "name": "stdout",
     "output_type": "stream",
     "text": [
      "deque(['vip-client', 'Smirnov'])\n"
     ]
    }
   ],
   "source": [
    "tired_client = clients.pop()\n",
    "print(clients)"
   ]
  },
  {
   "cell_type": "code",
   "execution_count": 41,
   "metadata": {},
   "outputs": [
    {
     "name": "stdout",
     "output_type": "stream",
     "text": [
      "deque(['vip', 'Smirnov'])\n"
     ]
    }
   ],
   "source": [
    "clients.appendleft('vip')\n",
    "del clients[1]\n",
    "\n",
    "print(clients)"
   ]
  },
  {
   "cell_type": "code",
   "execution_count": 42,
   "metadata": {},
   "outputs": [
    {
     "name": "stdout",
     "output_type": "stream",
     "text": [
      "deque([1, 2, 3, 4, 5, 11, 12, 13, 14, 15])\n"
     ]
    }
   ],
   "source": [
    "shop = deque([1, 2, 3, 4, 5])\n",
    "shop.extend([11, 12, 13, 14, 15])\n",
    "print(shop)"
   ]
  },
  {
   "cell_type": "code",
   "execution_count": 43,
   "metadata": {},
   "outputs": [
    {
     "name": "stdout",
     "output_type": "stream",
     "text": [
      "deque(['b', 'a', 1, 2, 3, 4, 5, 11, 12, 13, 14, 15])\n"
     ]
    }
   ],
   "source": [
    "shop.extendleft(['a', 'b'])\n",
    "print(shop)"
   ]
  },
  {
   "attachments": {},
   "cell_type": "markdown",
   "metadata": {},
   "source": [
    "extendleft аналогично многократному применению функции appendleft, поэтому самый последний клиент из автобуса оказался в итоге первым в очереди"
   ]
  },
  {
   "cell_type": "code",
   "execution_count": 44,
   "metadata": {},
   "outputs": [
    {
     "name": "stdout",
     "output_type": "stream",
     "text": [
      "deque(['b', 'a', 1, 2, 3, 4, 5, 11, 12, 13, 14, 15])\n",
      "deque([], maxlen=3)\n",
      "deque([13, 14, 15], maxlen=3)\n"
     ]
    }
   ],
   "source": [
    "print(shop)\n",
    "shop_ltd = deque(maxlen=3)\n",
    "print(shop_ltd)\n",
    "\n",
    "print(deque(shop, maxlen=3))"
   ]
  },
  {
   "cell_type": "code",
   "execution_count": 51,
   "metadata": {},
   "outputs": [
    {
     "name": "stdout",
     "output_type": "stream",
     "text": [
      "deque([2, 3, '123'], maxlen=3)\n"
     ]
    }
   ],
   "source": [
    "shop_ltd.clear()\n",
    "shop_ltd.extend([1, 2, 3])\n",
    "\n",
    "shop_ltd.append('123')\n",
    "print(shop_ltd)"
   ]
  },
  {
   "cell_type": "code",
   "execution_count": 52,
   "metadata": {},
   "outputs": [],
   "source": [
    "temps = [20.6, 19.4, 19.0, 19.0, 22.1,\n",
    "        22.5, 22.8, 24.1, 25.6, 27.0,\n",
    "        27.0, 25.6, 26.8, 27.3, 22.5,\n",
    "        25.4, 24.4, 23.7, 23.6, 22.6,\n",
    "        20.4, 17.9, 17.3, 17.3, 18.1,\n",
    "        20.1, 22.2, 19.8, 21.3, 21.3,\n",
    "        21.9]"
   ]
  },
  {
   "cell_type": "code",
   "execution_count": 53,
   "metadata": {},
   "outputs": [],
   "source": [
    "days = deque(maxlen=7)"
   ]
  },
  {
   "cell_type": "code",
   "execution_count": 57,
   "metadata": {},
   "outputs": [
    {
     "name": "stdout",
     "output_type": "stream",
     "text": [
      "21.03; 20.93; 20.47; 20.36; 20.47; 20.64; 20.77; 21.27; 22.16; 23.3; 24.44; 24.94; 25.56; 26.2; 25.97; 25.94; 25.57; 25.1; 24.81; 24.21; 23.23; 22.57; 21.41; 20.4; 19.6; 19.1; 19.04; 18.96; 19.44; 20.01; 20.67; \n"
     ]
    }
   ],
   "source": [
    "for each_temp in temps:\n",
    "    days.append(each_temp)\n",
    "    if len(days) == days.maxlen: print(round(sum(days)/len(days), 2), end='; ')\n",
    "\n",
    "print('')"
   ]
  },
  {
   "cell_type": "code",
   "execution_count": 60,
   "metadata": {},
   "outputs": [
    {
     "name": "stdout",
     "output_type": "stream",
     "text": [
      "deque(['5', '4', '3', '2', '1'])\n"
     ]
    }
   ],
   "source": [
    "d = deque('12345')\n",
    "d.reverse()\n",
    "print(d)"
   ]
  },
  {
   "cell_type": "code",
   "execution_count": 61,
   "metadata": {},
   "outputs": [
    {
     "name": "stdout",
     "output_type": "stream",
     "text": [
      "deque(['3', '2', '1', '5', '4'])\n"
     ]
    }
   ],
   "source": [
    "d.rotate(3)\n",
    "print(d)"
   ]
  },
  {
   "cell_type": "code",
   "execution_count": 62,
   "metadata": {},
   "outputs": [
    {
     "name": "stdout",
     "output_type": "stream",
     "text": [
      "deque(['1', '5', '4', '3', '2'])\n"
     ]
    }
   ],
   "source": [
    "d.rotate(-2)\n",
    "print(d)"
   ]
  },
  {
   "cell_type": "code",
   "execution_count": 64,
   "metadata": {},
   "outputs": [
    {
     "name": "stdout",
     "output_type": "stream",
     "text": [
      "deque(['1', '5', '4', '3', '2', 3, '5'])\n"
     ]
    }
   ],
   "source": [
    "from numpy import random\n",
    "d.append(str(random.randint(1,6)))\n",
    "\n",
    "print(d)"
   ]
  },
  {
   "cell_type": "code",
   "execution_count": 65,
   "metadata": {},
   "outputs": [
    {
     "name": "stdout",
     "output_type": "stream",
     "text": [
      "1\n"
     ]
    }
   ],
   "source": [
    "print(d.index('5'))"
   ]
  },
  {
   "cell_type": "code",
   "execution_count": 66,
   "metadata": {},
   "outputs": [
    {
     "name": "stdout",
     "output_type": "stream",
     "text": [
      "2\n"
     ]
    }
   ],
   "source": [
    "print(d.count('5'))"
   ]
  },
  {
   "cell_type": "code",
   "execution_count": 67,
   "metadata": {},
   "outputs": [
    {
     "ename": "ValueError",
     "evalue": "5 is not in deque",
     "output_type": "error",
     "traceback": [
      "\u001b[1;31m---------------------------------------------------------------------------\u001b[0m",
      "\u001b[1;31mValueError\u001b[0m                                Traceback (most recent call last)",
      "Cell \u001b[1;32mIn[67], line 1\u001b[0m\n\u001b[1;32m----> 1\u001b[0m \u001b[39mprint\u001b[39m(d\u001b[39m.\u001b[39;49mindex(\u001b[39m5\u001b[39;49m))\n",
      "\u001b[1;31mValueError\u001b[0m: 5 is not in deque"
     ]
    }
   ],
   "source": [
    "print(d.index(5))"
   ]
  },
  {
   "cell_type": "code",
   "execution_count": 92,
   "metadata": {},
   "outputs": [
    {
     "name": "stdout",
     "output_type": "stream",
     "text": [
      "OrderedDict([('2001', -2.5), ('2000', -4.4), ('2002', -4.4), ('2003', -9.5)])\n"
     ]
    }
   ],
   "source": [
    "temps =  [('2000', -4.4), ('2001', -2.5), ('2002', -4.4), ('2003', -9.5)]\n",
    "temps = OrderedDict(sorted(temps, key=lambda x: x[1], reverse=True))\n",
    "print(temps)\n"
   ]
  },
  {
   "cell_type": "code",
   "execution_count": 93,
   "metadata": {},
   "outputs": [
    {
     "name": "stdout",
     "output_type": "stream",
     "text": [
      "[1, 3]\n"
     ]
    }
   ],
   "source": [
    "lst = [1,2,3]\n",
    "lst.pop(1)\n",
    "print(lst)\n"
   ]
  },
  {
   "cell_type": "code",
   "execution_count": 45,
   "metadata": {},
   "outputs": [
    {
     "name": "stdout",
     "output_type": "stream",
     "text": [
      "False\n"
     ]
    }
   ],
   "source": [
    "from collections import deque \n",
    "\n",
    "line = '(()'\n",
    "\n",
    "def brackets(line):\n",
    "    brackets = deque()\n",
    "    \n",
    "    i = 0\n",
    "    \n",
    "    while i < len(line):\n",
    "    \n",
    "        while i < len(line) and line[i] == '(': \n",
    "            brackets.append('(')\n",
    "            i += 1\n",
    "        \n",
    "        while i < len(line) and line[i] == ')':\n",
    "            try:\n",
    "                brackets.pop()\n",
    "            except: \n",
    "                return False\n",
    "            i += 1\n",
    "             \n",
    "    if len(brackets): return False                   \n",
    "    else: return True    \n",
    "\n",
    "print(brackets(line))\n",
    "        "
   ]
  },
  {
   "cell_type": "code",
   "execution_count": 2,
   "metadata": {},
   "outputs": [
    {
     "name": "stdout",
     "output_type": "stream",
     "text": [
      "counter Counter({'Beer': 9, 'Bread': 6, 'Cola': 5, 'Soap': 4, 'Cheese': 4, 'Chips': 4, 'Meat': 3, 'Milk': 2, 'Chocolate': 2})\n",
      "39\n"
     ]
    }
   ],
   "source": [
    "from collections import Counter\n",
    "\n",
    "center = [['Meat', 'Beer', 'Soap', 'Beer', 'Cheese', 'Cola', 'Milk', 'Soap', 'Cola', 'Meat', 'Bread', 'Chocolate', 'Chips'], \n",
    "          ['Soap', 'Beer', 'Chips', 'Bread', 'Beer', 'Beer', 'Beer', 'Cheese', 'Cheese', 'Beer', 'Chips', 'Chocolate', 'Chips', 'Cheese', 'Bread', 'Cola', 'Cola', 'Beer'], \n",
    "          ['Cola', 'Soap', 'Bread', 'Milk', 'Beer', 'Meat', 'Bread', 'Bread']]\n",
    "\n",
    "def uncover(lst):\n",
    "    temp_lst = []\n",
    "    for i in lst:\n",
    "        temp_lst.extend(i)\n",
    "    return temp_lst\n",
    "\n",
    "print('counter', Counter(uncover(center)))\n",
    "\n",
    "center = uncover(center)\n",
    "print(len(center))"
   ]
  },
  {
   "cell_type": "code",
   "execution_count": 20,
   "metadata": {},
   "outputs": [
    {
     "data": {
      "text/plain": [
       "[('WokAndRice', 4.9),\n",
       " ('WokToWork', 4.9),\n",
       " ('General Foods', 4.8),\n",
       " ('New Age', 4.6),\n",
       " ('Belissimo', 4.5),\n",
       " ('CakeAndCoffee', 4.2),\n",
       " ('CakeOClock', 4.2),\n",
       " ('CakeTime', 4.1),\n",
       " ('Nice Cakes', 3.9),\n",
       " ('Old Gold', 3.3),\n",
       " ('Old Wine Cellar', 3.3),\n",
       " ('Old York', 3.3)]"
      ]
     },
     "execution_count": 20,
     "metadata": {},
     "output_type": "execute_result"
    }
   ],
   "source": [
    "ratings = [('Old York', 3.3), ('New Age', 4.6), ('Old Gold', 3.3), ('General Foods', 4.8),\n",
    "           ('Belissimo', 4.5), ('CakeAndCoffee', 4.2), ('CakeOClock', 4.2), ('CakeTime', 4.1),\n",
    "           ('WokToWork', 4.9), ('WokAndRice', 4.9), ('Old Wine Cellar', 3.3), ('Nice Cakes', 3.9)]\n",
    "\n",
    "sorted(sorted(ratings), key=lambda x: (x[1],x[0][0]), reverse=True)"
   ]
  },
  {
   "cell_type": "code",
   "execution_count": 24,
   "metadata": {},
   "outputs": [
    {
     "name": "stdout",
     "output_type": "stream",
     "text": [
      "[('WokAndRice', 4.9), ('WokToWork', 4.9), ('General Foods', 4.8), ('New Age', 4.6), ('Belissimo', 4.5), ('CakeAndCoffee', 4.2), ('CakeOClock', 4.2), ('CakeTime', 4.1), ('Nice Cakes', 3.9), ('Old Gold', 3.3), ('Old Wine Cellar', 3.3), ('Old York', 3.3)]\n"
     ]
    }
   ],
   "source": [
    "ratings = [('Old York', 3.3), ('New Age', 4.6), ('Old Gold', 3.3), ('General Foods', 4.8),\n",
    "           ('Belissimo', 4.5), ('CakeAndCoffee', 4.2), ('CakeOClock', 4.2), ('CakeTime', 4.1),\n",
    "           ('WokToWork', 4.9), ('WokAndRice', 4.9), ('Old Wine Cellar', 3.3), ('Nice Cakes', 3.9)]\n",
    "\n",
    "ratings.sort(key= lambda x: (-x[1], x[0]))\n",
    "\n",
    "print(ratings)"
   ]
  },
  {
   "cell_type": "code",
   "execution_count": 25,
   "metadata": {},
   "outputs": [
    {
     "name": "stdout",
     "output_type": "stream",
     "text": [
      "defaultdict(<class 'collections.deque'>, {'office': deque([36871, 40690, 33850]), 'voltage': deque([41667, 35364])})\n"
     ]
    }
   ],
   "source": [
    "from collections import defaultdict, deque\n",
    "\n",
    "tasks = [(36871, 'office', False),\n",
    "        (40690, 'office', False),\n",
    "        (35364, 'voltage', False),\n",
    "        (41667, 'voltage', True),\n",
    "        (33850, 'office', False)]\n",
    "\n",
    "\n",
    "def task_manager(tasks):\n",
    "    tasks_dict = defaultdict(deque)\n",
    "    \n",
    "    for num_task, name, vip  in tasks: \n",
    "        tasks_dict[name].append(num_task) if vip == False else tasks_dict[name].appendleft(num_task)\n",
    "    \n",
    "    return tasks_dict\n",
    "\n",
    "\n",
    "print(task_manager(tasks))\n",
    "        \n",
    "        "
   ]
  }
 ],
 "metadata": {
  "kernelspec": {
   "display_name": "Python 3",
   "language": "python",
   "name": "python3"
  },
  "language_info": {
   "codemirror_mode": {
    "name": "ipython",
    "version": 3
   },
   "file_extension": ".py",
   "mimetype": "text/x-python",
   "name": "python",
   "nbconvert_exporter": "python",
   "pygments_lexer": "ipython3",
   "version": "3.9.13 (tags/v3.9.13:6de2ca5, May 17 2022, 16:36:42) [MSC v.1929 64 bit (AMD64)]"
  },
  "orig_nbformat": 4,
  "vscode": {
   "interpreter": {
    "hash": "5e4b12a92563b6c688ef0c9c2d7a30db9fe64b969b648f905de0fc95c1223ca1"
   }
  }
 },
 "nbformat": 4,
 "nbformat_minor": 2
}
