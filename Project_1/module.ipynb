{
 "cells": [
  {
   "cell_type": "code",
   "execution_count": 2,
   "metadata": {},
   "outputs": [],
   "source": [
    "import pandas as pd"
   ]
  },
  {
   "cell_type": "code",
   "execution_count": 35,
   "metadata": {},
   "outputs": [
    {
     "data": {
      "text/plain": [
       "'Новосибирск ,  м. Октябрьская , готов к переезду , Тюмень , готов к командировкам'"
      ]
     },
     "execution_count": 35,
     "metadata": {},
     "output_type": "execute_result"
    }
   ],
   "source": [
    "def del_brackets(city_string):\n",
    "    left_bracket = city_string.find('(')\n",
    "    right_bracket = city_string.find(')')\n",
    "    \n",
    "    while left_bracket >= 0 and right_bracket >= 0:\n",
    "        if right_bracket > left_bracket: city_string = city_string[:left_bracket] + city_string[right_bracket+1:]\n",
    "        else: city_string = city_string[:right_bracket] + city_string[right_bracket+1:]\n",
    "        \n",
    "        left_bracket = city_string.find('(')\n",
    "        right_bracket = city_string.find(')')\n",
    "        \n",
    "    city_string = city_string.replace('(', '')\n",
    "    city_string = city_string.replace(')', '')\n",
    "       \n",
    "    return city_string\n",
    "\n",
    "\n",
    "del_brackets('Новосибирск ,  м. Октябрьская , готов к переезду (Москва, Санкт-Петербург, Сургут, Республика Саха (Якутия), Тюмень) , готов к командировкам')"
   ]
  },
  {
   "cell_type": "code",
   "execution_count": 54,
   "metadata": {},
   "outputs": [
    {
     "data": {
      "text/plain": [
       "'готов к переезду , тра-та-та '"
      ]
     },
     "execution_count": 54,
     "metadata": {},
     "output_type": "execute_result"
    }
   ],
   "source": [
    "string = 'Новосибирск ,  м. Октябрьская , готов к переезду (Москва, Санкт-Петербург, Сургут, Республика Саха (Якутия), Тюмень) , готов к командировкам'\n",
    "string = 'ngkj (dfdjfgkdj (fjhkghjfk (dfkjd) djfkdgjk jffksj) kgjkjkhjgfkhjgfhj)'\n",
    "string = 'готов к переезду (Москва, Санкт-Петербург, Сургут, Республика Саха (Якутия)), тра-та-та (оаро)'\n",
    "\n",
    "def del_brackets(string):\n",
    "    string_split = string.split('(')\n",
    "    res = string_split[0]\n",
    "\n",
    "    for elem in string_split[1:]:\n",
    "        # Запомним, сколько в строке закрывающих скобок\n",
    "        num_rbrackets = elem.count(')')\n",
    "        right_lst = elem.split(')')\n",
    "        \n",
    "        # Если за последней закрывающей скобкой есть текст (то есть число скобок меньше числа элементов после разбиения),\n",
    "        # то сохраняем этот \"хвостик\" в результат. \n",
    "        # Если нет, то элемент пропускаем.\n",
    "        if len(right_lst) > num_rbrackets > 0: res += right_lst[-1]\n",
    "        \n",
    "    return res\n",
    "\n",
    "del_brackets(string)\n",
    "    \n",
    "    "
   ]
  },
  {
   "attachments": {},
   "cell_type": "markdown",
   "metadata": {},
   "source": [
    "fdjf \n",
    "        (kjfkd) kjfhdkj\n",
    "\n",
    "\n",
    "lsdjdfk \n",
    "        (jfds \n",
    "                (fjj) djfkldf) kdfj\n",
    "\n",
    "\n",
    "\n",
    "ngkj \n",
    "        (dfdjfgkdj \n",
    "                (fjhkghjfk \n",
    "                        (dfkjd) djfkdgjk jffksj) kgjkjkhjgfkhjgfhj)\n",
    "\n",
    "\n",
    "jfkjhf \n",
    "        (nkjff) djfdff \n",
    "                (mfnkdgh) kdjgk \n",
    "                        (jkdfjgkd) mfnkf"
   ]
  }
 ],
 "metadata": {
  "kernelspec": {
   "display_name": "Python 3",
   "language": "python",
   "name": "python3"
  },
  "language_info": {
   "codemirror_mode": {
    "name": "ipython",
    "version": 3
   },
   "file_extension": ".py",
   "mimetype": "text/x-python",
   "name": "python",
   "nbconvert_exporter": "python",
   "pygments_lexer": "ipython3",
   "version": "3.9.13"
  },
  "orig_nbformat": 4,
  "vscode": {
   "interpreter": {
    "hash": "5e4b12a92563b6c688ef0c9c2d7a30db9fe64b969b648f905de0fc95c1223ca1"
   }
  }
 },
 "nbformat": 4,
 "nbformat_minor": 2
}
