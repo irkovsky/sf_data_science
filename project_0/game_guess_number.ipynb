{
 "cells": [
  {
   "cell_type": "code",
   "execution_count": 3,
   "metadata": {},
   "outputs": [
    {
     "ename": "ImportError",
     "evalue": "cannot import name 'take_number' from 'game_guess_number' (c:\\Users\\Питерские котики\\Documents\\GitHub\\sf_data_science\\project_0\\game_guess_number.py)",
     "output_type": "error",
     "traceback": [
      "\u001b[1;31m---------------------------------------------------------------------------\u001b[0m",
      "\u001b[1;31mImportError\u001b[0m                               Traceback (most recent call last)",
      "Cell \u001b[1;32mIn[3], line 1\u001b[0m\n\u001b[1;32m----> 1\u001b[0m \u001b[39mfrom\u001b[39;00m \u001b[39mgame_guess_number\u001b[39;00m \u001b[39mimport\u001b[39;00m take_number, average_result\n",
      "\u001b[1;31mImportError\u001b[0m: cannot import name 'take_number' from 'game_guess_number' (c:\\Users\\Питерские котики\\Documents\\GitHub\\sf_data_science\\project_0\\game_guess_number.py)"
     ]
    }
   ],
   "source": [
    "from game_guess_number import take_number, average_result"
   ]
  }
 ],
 "metadata": {
  "kernelspec": {
   "display_name": "Python 3",
   "language": "python",
   "name": "python3"
  },
  "language_info": {
   "codemirror_mode": {
    "name": "ipython",
    "version": 3
   },
   "file_extension": ".py",
   "mimetype": "text/x-python",
   "name": "python",
   "nbconvert_exporter": "python",
   "pygments_lexer": "ipython3",
   "version": "3.9.13"
  },
  "orig_nbformat": 4,
  "vscode": {
   "interpreter": {
    "hash": "5e4b12a92563b6c688ef0c9c2d7a30db9fe64b969b648f905de0fc95c1223ca1"
   }
  }
 },
 "nbformat": 4,
 "nbformat_minor": 2
}
