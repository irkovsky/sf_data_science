{
 "cells": [
  {
   "cell_type": "markdown",
   "metadata": {},
   "source": [
    "# Дипломный проект: Модель прогнозирования стоимости жилья для агентства недвижимости\n",
    "## EDA и препросессинг"
   ]
  },
  {
   "cell_type": "code",
   "execution_count": 27,
   "metadata": {},
   "outputs": [],
   "source": [
    "import pandas as pd\n",
    "import numpy as np\n",
    "\n",
    "import seaborn as sns\n",
    "import pandas as pd\n",
    "import matplotlib.pyplot as plt\n",
    "import plotly.express as px"
   ]
  },
  {
   "cell_type": "code",
   "execution_count": 28,
   "metadata": {},
   "outputs": [
    {
     "data": {
      "text/html": [
       "<div>\n",
       "<style scoped>\n",
       "    .dataframe tbody tr th:only-of-type {\n",
       "        vertical-align: middle;\n",
       "    }\n",
       "\n",
       "    .dataframe tbody tr th {\n",
       "        vertical-align: top;\n",
       "    }\n",
       "\n",
       "    .dataframe thead th {\n",
       "        text-align: right;\n",
       "    }\n",
       "</style>\n",
       "<table border=\"1\" class=\"dataframe\">\n",
       "  <thead>\n",
       "    <tr style=\"text-align: right;\">\n",
       "      <th></th>\n",
       "      <th>city</th>\n",
       "      <th>sqft</th>\n",
       "      <th>zipcode</th>\n",
       "      <th>state</th>\n",
       "      <th>PrivatePool</th>\n",
       "      <th>target</th>\n",
       "      <th>fireplace_type</th>\n",
       "      <th>stories_num</th>\n",
       "      <th>baths_num</th>\n",
       "      <th>beds_num</th>\n",
       "      <th>...</th>\n",
       "      <th>mean_school_rating</th>\n",
       "      <th>schools_number</th>\n",
       "      <th>mean_school_distance</th>\n",
       "      <th>grades_pk</th>\n",
       "      <th>grades_k</th>\n",
       "      <th>min_grade</th>\n",
       "      <th>max_grade</th>\n",
       "      <th>street_type</th>\n",
       "      <th>property_type</th>\n",
       "      <th>status_type</th>\n",
       "    </tr>\n",
       "    <tr>\n",
       "      <th>Unnamed: 0</th>\n",
       "      <th></th>\n",
       "      <th></th>\n",
       "      <th></th>\n",
       "      <th></th>\n",
       "      <th></th>\n",
       "      <th></th>\n",
       "      <th></th>\n",
       "      <th></th>\n",
       "      <th></th>\n",
       "      <th></th>\n",
       "      <th></th>\n",
       "      <th></th>\n",
       "      <th></th>\n",
       "      <th></th>\n",
       "      <th></th>\n",
       "      <th></th>\n",
       "      <th></th>\n",
       "      <th></th>\n",
       "      <th></th>\n",
       "      <th></th>\n",
       "      <th></th>\n",
       "    </tr>\n",
       "  </thead>\n",
       "  <tbody>\n",
       "    <tr>\n",
       "      <th>0</th>\n",
       "      <td>southern pines</td>\n",
       "      <td>2900.0</td>\n",
       "      <td>28387.0</td>\n",
       "      <td>NC</td>\n",
       "      <td>0</td>\n",
       "      <td>$418,000</td>\n",
       "      <td>gas</td>\n",
       "      <td>NaN</td>\n",
       "      <td>35.0</td>\n",
       "      <td>4.0</td>\n",
       "      <td>...</td>\n",
       "      <td>5.20</td>\n",
       "      <td>8.0</td>\n",
       "      <td>5.54</td>\n",
       "      <td>1</td>\n",
       "      <td>1</td>\n",
       "      <td>2.0</td>\n",
       "      <td>12.0</td>\n",
       "      <td>ln</td>\n",
       "      <td>single family</td>\n",
       "      <td>activated</td>\n",
       "    </tr>\n",
       "    <tr>\n",
       "      <th>1</th>\n",
       "      <td>spokane valley</td>\n",
       "      <td>7.0</td>\n",
       "      <td>99216.0</td>\n",
       "      <td>WA</td>\n",
       "      <td>0</td>\n",
       "      <td>$310,000</td>\n",
       "      <td>unknown</td>\n",
       "      <td>2.0</td>\n",
       "      <td>3.0</td>\n",
       "      <td>3.0</td>\n",
       "      <td>...</td>\n",
       "      <td>4.00</td>\n",
       "      <td>3.0</td>\n",
       "      <td>1.33</td>\n",
       "      <td>1</td>\n",
       "      <td>0</td>\n",
       "      <td>3.0</td>\n",
       "      <td>12.0</td>\n",
       "      <td>ave</td>\n",
       "      <td>single family</td>\n",
       "      <td>activated</td>\n",
       "    </tr>\n",
       "    <tr>\n",
       "      <th>2</th>\n",
       "      <td>los angeles</td>\n",
       "      <td>0.0</td>\n",
       "      <td>90049.0</td>\n",
       "      <td>CA</td>\n",
       "      <td>1</td>\n",
       "      <td>$2,895,000</td>\n",
       "      <td>yes</td>\n",
       "      <td>1.0</td>\n",
       "      <td>2.0</td>\n",
       "      <td>3.0</td>\n",
       "      <td>...</td>\n",
       "      <td>6.67</td>\n",
       "      <td>3.0</td>\n",
       "      <td>1.96</td>\n",
       "      <td>0</td>\n",
       "      <td>1</td>\n",
       "      <td>5.0</td>\n",
       "      <td>12.0</td>\n",
       "      <td>rd</td>\n",
       "      <td>single family</td>\n",
       "      <td>activated</td>\n",
       "    </tr>\n",
       "    <tr>\n",
       "      <th>3</th>\n",
       "      <td>dallas</td>\n",
       "      <td>7.0</td>\n",
       "      <td>75205.0</td>\n",
       "      <td>TX</td>\n",
       "      <td>0</td>\n",
       "      <td>$2,395,000</td>\n",
       "      <td>yes</td>\n",
       "      <td>3.0</td>\n",
       "      <td>8.0</td>\n",
       "      <td>5.0</td>\n",
       "      <td>...</td>\n",
       "      <td>9.25</td>\n",
       "      <td>4.0</td>\n",
       "      <td>0.75</td>\n",
       "      <td>1</td>\n",
       "      <td>0</td>\n",
       "      <td>4.0</td>\n",
       "      <td>12.0</td>\n",
       "      <td>ave</td>\n",
       "      <td>single family</td>\n",
       "      <td>activated</td>\n",
       "    </tr>\n",
       "    <tr>\n",
       "      <th>4</th>\n",
       "      <td>palm bay</td>\n",
       "      <td>NaN</td>\n",
       "      <td>32908.0</td>\n",
       "      <td>FL</td>\n",
       "      <td>0</td>\n",
       "      <td>$5,000</td>\n",
       "      <td>unknown</td>\n",
       "      <td>NaN</td>\n",
       "      <td>NaN</td>\n",
       "      <td>NaN</td>\n",
       "      <td>...</td>\n",
       "      <td>4.67</td>\n",
       "      <td>3.0</td>\n",
       "      <td>4.08</td>\n",
       "      <td>1</td>\n",
       "      <td>0</td>\n",
       "      <td>6.0</td>\n",
       "      <td>12.0</td>\n",
       "      <td>st</td>\n",
       "      <td>land</td>\n",
       "      <td>activated</td>\n",
       "    </tr>\n",
       "  </tbody>\n",
       "</table>\n",
       "<p>5 rows × 24 columns</p>\n",
       "</div>"
      ],
      "text/plain": [
       "                      city    sqft  zipcode state  PrivatePool      target  \\\n",
       "Unnamed: 0                                                                   \n",
       "0           southern pines  2900.0  28387.0    NC            0    $418,000   \n",
       "1           spokane valley     7.0  99216.0    WA            0    $310,000   \n",
       "2              los angeles     0.0  90049.0    CA            1  $2,895,000   \n",
       "3                   dallas     7.0  75205.0    TX            0  $2,395,000   \n",
       "4                 palm bay     NaN  32908.0    FL            0      $5,000   \n",
       "\n",
       "           fireplace_type  stories_num  baths_num  beds_num  ...  \\\n",
       "Unnamed: 0                                                   ...   \n",
       "0                     gas          NaN       35.0       4.0  ...   \n",
       "1                 unknown          2.0        3.0       3.0  ...   \n",
       "2                     yes          1.0        2.0       3.0  ...   \n",
       "3                     yes          3.0        8.0       5.0  ...   \n",
       "4                 unknown          NaN        NaN       NaN  ...   \n",
       "\n",
       "            mean_school_rating  schools_number mean_school_distance grades_pk  \\\n",
       "Unnamed: 0                                                                      \n",
       "0                         5.20             8.0                 5.54         1   \n",
       "1                         4.00             3.0                 1.33         1   \n",
       "2                         6.67             3.0                 1.96         0   \n",
       "3                         9.25             4.0                 0.75         1   \n",
       "4                         4.67             3.0                 4.08         1   \n",
       "\n",
       "            grades_k  min_grade  max_grade  street_type  property_type  \\\n",
       "Unnamed: 0                                                               \n",
       "0                  1        2.0       12.0           ln  single family   \n",
       "1                  0        3.0       12.0          ave  single family   \n",
       "2                  1        5.0       12.0           rd  single family   \n",
       "3                  0        4.0       12.0          ave  single family   \n",
       "4                  0        6.0       12.0           st           land   \n",
       "\n",
       "            status_type  \n",
       "Unnamed: 0               \n",
       "0             activated  \n",
       "1             activated  \n",
       "2             activated  \n",
       "3             activated  \n",
       "4             activated  \n",
       "\n",
       "[5 rows x 24 columns]"
      ]
     },
     "execution_count": 28,
     "metadata": {},
     "output_type": "execute_result"
    }
   ],
   "source": [
    "data2 = pd.read_csv('data/data_2backup.csv')\n",
    "data2.set_index(data2.columns[0], inplace=True)\n",
    "data2.head()"
   ]
  },
  {
   "cell_type": "markdown",
   "metadata": {},
   "source": [
    "## Проверить есть ли малоинформативные признаки? Есть смысл это делать после заполнения пропусков"
   ]
  },
  {
   "cell_type": "code",
   "execution_count": 29,
   "metadata": {},
   "outputs": [],
   "source": [
    "target = data2['target'].copy()"
   ]
  },
  {
   "cell_type": "code",
   "execution_count": 30,
   "metadata": {},
   "outputs": [
    {
     "data": {
      "text/plain": [
       "stories_num             40.599175\n",
       "beds_num                29.653618\n",
       "baths_num               28.608773\n",
       "age                     16.860692\n",
       "sqft                    10.975781\n",
       "status_type             10.583136\n",
       "property_type            9.208479\n",
       "mean_school_rating       1.365908\n",
       "max_grade                1.146122\n",
       "min_grade                1.146122\n",
       "mean_school_distance     1.135782\n",
       "schools_number           1.135782\n",
       "target                   0.657767\n",
       "city                     0.009014\n",
       "state                    0.001060\n",
       "street_type              0.000530\n",
       "zipcode                  0.000530\n",
       "parking_type             0.000000\n",
       "is_remodeled             0.000000\n",
       "fireplace_type           0.000000\n",
       "grades_pk                0.000000\n",
       "grades_k                 0.000000\n",
       "PrivatePool              0.000000\n",
       "heating_type             0.000000\n",
       "dtype: float64"
      ]
     },
     "execution_count": 30,
     "metadata": {},
     "output_type": "execute_result"
    }
   ],
   "source": [
    "(data2.isna().sum()*100/data2.shape[0]).sort_values(ascending=False)"
   ]
  },
  {
   "cell_type": "code",
   "execution_count": 31,
   "metadata": {},
   "outputs": [
    {
     "data": {
      "text/plain": [
       "PrivatePool               int64\n",
       "age                     float64\n",
       "baths_num               float64\n",
       "beds_num                float64\n",
       "city                     object\n",
       "fireplace_type           object\n",
       "grades_k                  int64\n",
       "grades_pk                 int64\n",
       "heating_type             object\n",
       "is_remodeled              int64\n",
       "max_grade               float64\n",
       "mean_school_distance    float64\n",
       "mean_school_rating      float64\n",
       "min_grade               float64\n",
       "parking_type             object\n",
       "property_type            object\n",
       "schools_number          float64\n",
       "sqft                    float64\n",
       "state                    object\n",
       "status_type              object\n",
       "stories_num             float64\n",
       "street_type              object\n",
       "target                   object\n",
       "zipcode                 float64\n",
       "dtype: object"
      ]
     },
     "execution_count": 31,
     "metadata": {},
     "output_type": "execute_result"
    }
   ],
   "source": [
    "data2.dtypes.sort_index()"
   ]
  },
  {
   "cell_type": "markdown",
   "metadata": {},
   "source": [
    "## Удаление дубликатов"
   ]
  },
  {
   "cell_type": "code",
   "execution_count": 32,
   "metadata": {},
   "outputs": [
    {
     "name": "stdout",
     "output_type": "stream",
     "text": [
      "Кол-во пропусков в таргете: 2481\n",
      "Текущая длина датасета: 374704\n"
     ]
    }
   ],
   "source": [
    "# Удаление строк, для которых таргет является неопределенным\n",
    "\n",
    "na_target_index=target[target.isna()].index\n",
    "print('Кол-во пропусков в таргете:', len(data2.index.intersection(na_target_index)))\n",
    "data2.drop(data2.index.intersection(na_target_index), inplace=True)\n",
    "print('Текущая длина датасета:', data2.shape[0])"
   ]
  },
  {
   "cell_type": "code",
   "execution_count": 33,
   "metadata": {},
   "outputs": [
    {
     "name": "stdout",
     "output_type": "stream",
     "text": [
      "Число дубликатов без учета целевого признака: 16623\n",
      "Текущее число строк датасета: 358081\n"
     ]
    }
   ],
   "source": [
    "# Удалим дублирующиеся значения без учета целевого признака\n",
    "print('Число дубликатов без учета целевого признака:', data2.drop('target', axis=1).duplicated().sum())\n",
    "no_target_dupl_index = data2[data2.drop('target', axis=1).duplicated()==True].index\n",
    "data2.drop(no_target_dupl_index, axis=0, inplace=True)\n",
    "print('Текущее число строк датасета:', data2.shape[0])"
   ]
  },
  {
   "cell_type": "markdown",
   "metadata": {},
   "source": [
    "## Выбросы"
   ]
  },
  {
   "cell_type": "markdown",
   "metadata": {},
   "source": [
    "удалить так же grades pk k как бинарные\n",
    "min max grade, zipcode"
   ]
  },
  {
   "cell_type": "code",
   "execution_count": 34,
   "metadata": {},
   "outputs": [],
   "source": [
    "data2['mean_school_distance'].replace(r'nan', np.NaN, regex=True, inplace=True)"
   ]
  },
  {
   "cell_type": "code",
   "execution_count": 35,
   "metadata": {},
   "outputs": [],
   "source": [
    "# Выберем следующие признаки для визуализации\n",
    "num_columns = ['sqft', 'stories_num', 'baths_num', 'beds_num', 'age', 'mean_school_rating', 'schools_number', 'mean_school_distance']\n",
    "data2['mean_school_distance'] = data2['mean_school_distance'].astype('float')"
   ]
  },
  {
   "cell_type": "code",
   "execution_count": 36,
   "metadata": {},
   "outputs": [
    {
     "data": {
      "image/png": "[encoded data removed]",
      "text/plain": [
       "<Figure size 1000x700 with 9 Axes>"
      ]
     },
     "metadata": {},
     "output_type": "display_data"
    }
   ],
   "source": [
    "fig, axes = plt.subplots(nrows=3, ncols=3, figsize=(10, 7))\n",
    "\n",
    "feature_n = 0\n",
    "for row in [0, 1, 2]:\n",
    "    if feature_n > 7: break\n",
    "    for col in [0, 1, 2]:  \n",
    "        if feature_n > 7: break\n",
    "        sns.boxplot(x=data2[num_columns[feature_n]], ax=axes[row, col])\n",
    "        feature_n += 1\n",
    "    \n",
    "\n",
    "plt.tight_layout()\n",
    "plt.show()\n",
    "\n",
    "# По графикам заметно:\n",
    "# - пять признаков имеют сильную ассиметрию вправо,\n",
    "# - признак возраста имеет отрицательные значения\n"
   ]
  },
  {
   "cell_type": "code",
   "execution_count": 37,
   "metadata": {},
   "outputs": [
    {
     "name": "stderr",
     "output_type": "stream",
     "text": [
      "c:\\Users\\Питерские котики\\AppData\\Local\\Programs\\Python\\Python39\\lib\\site-packages\\pandas\\core\\arraylike.py:402: RuntimeWarning: invalid value encountered in log\n",
      "  result = getattr(ufunc, method)(*inputs, **kwargs)\n"
     ]
    },
    {
     "data": {
      "image/png": "[encoded data removed]",
      "text/plain": [
       "<Figure size 1000x700 with 9 Axes>"
      ]
     },
     "metadata": {},
     "output_type": "display_data"
    }
   ],
   "source": [
    "# Посмотрим, нормализуется ли отображение после логарифмирования\n",
    "fig, axes = plt.subplots(nrows=3, ncols=3, figsize=(10, 7))\n",
    "\n",
    "feature_n = 0\n",
    "for row in [0, 1, 2]:\n",
    "    if feature_n > 7: break\n",
    "    for col in [0, 1, 2]:  \n",
    "        if feature_n > 7: break\n",
    "        sns.boxplot(x=np.log(data2[num_columns[feature_n]]+1), ax=axes[row, col])\n",
    "        feature_n += 1\n",
    "\n",
    "plt.tight_layout()\n",
    "plt.show()"
   ]
  },
  {
   "cell_type": "code",
   "execution_count": 38,
   "metadata": {},
   "outputs": [],
   "source": [
    "\n",
    "def outliers_iqr(data, feature, lower_n=1.5, upper_n=1.5):\n",
    "    \n",
    "    x = data[feature]\n",
    "    Q1 = x.quantile(0.25)\n",
    "    Q3 = x.quantile(0.75)\n",
    "    IQR = Q3 - Q1\n",
    "    \n",
    "    lower_bound = Q1 - lower_n*IQR\n",
    "    upper_bound = Q3 + upper_n*IQR\n",
    "    outliers = data[(x < lower_bound) | (x > upper_bound)]\n",
    "    cleaned = data[(x >= lower_bound) & (x <= upper_bound)]\n",
    "    \n",
    "    print(f'{feature}:')\n",
    "    print('lower_bound:', round(lower_bound, 2))\n",
    "    print('upper_bound:', round(upper_bound, 2))\n",
    "    \n",
    "    return outliers, cleaned"
   ]
  },
  {
   "cell_type": "code",
   "execution_count": 39,
   "metadata": {},
   "outputs": [
    {
     "data": {
      "image/png": "[encoded data removed]",
      "text/plain": [
       "<Figure size 800x400 with 4 Axes>"
      ]
     },
     "metadata": {},
     "output_type": "display_data"
    }
   ],
   "source": [
    "# Ассиметрия сохранилась после логарифмирования, поэтому для выявления выбросов, возможно, будем использовать ручной метод\n",
    "# Посмотрим, как могут быть взаимосвязаны признаки\n",
    "\n",
    "fig, axes = plt.subplots(nrows=2, ncols=2, figsize=(8, 4))\n",
    "\n",
    "sns.scatterplot(data2, x='stories_num', y='sqft', ax=axes[0,0]);\n",
    "sns.scatterplot(data2, x='beds_num', y='sqft', ax=axes[0,1]);\n",
    "sns.scatterplot(data2[data2['baths_num']<1000], x='baths_num', y='sqft', ax=axes[1,0], );\n",
    "sns.scatterplot(data2, x='baths_num', y='beds_num', ax=axes[1,1]);\n",
    "\n",
    "plt.tight_layout()\n",
    "plt.show()"
   ]
  },
  {
   "cell_type": "code",
   "execution_count": 40,
   "metadata": {},
   "outputs": [
    {
     "data": {
      "image/png": "[encoded data removed]",
      "text/plain": [
       "<Figure size 800x400 with 4 Axes>"
      ]
     },
     "metadata": {},
     "output_type": "display_data"
    },
    {
     "name": "stdout",
     "output_type": "stream",
     "text": [
      "Текущее кол-во строк: 192506\n"
     ]
    }
   ],
   "source": [
    "\n",
    "\n",
    "# Уже заметно, что объекты с этажами от 200 - это выбросы, также объекты с площадью более 25 тыс стоят особняком\n",
    "# Посчитаем их за выбросы\n",
    "data2 = data2[data2['stories_num']<200]\n",
    "data2 = data2[data2['sqft']<25000]\n",
    "\n",
    "# Учтем некоторые другие наблюдения:\n",
    "data2 = data2[data2['beds_num']<18]\n",
    "# Хоть и сложно представить но пока не будем трогать baths_num<200 \n",
    "data2 = data2[data2['beds_num']<200]\n",
    "\n",
    "fig, axes = plt.subplots(nrows=2, ncols=2, figsize=(8, 4))\n",
    "\n",
    "sns.scatterplot(data2, x='stories_num', y='sqft', ax=axes[0,0]);\n",
    "sns.scatterplot(data2, x='beds_num', y='sqft', ax=axes[0,1]);\n",
    "sns.scatterplot(data2[data2['baths_num']<1000], x='baths_num', y='sqft', ax=axes[1,0], );\n",
    "sns.scatterplot(data2, x='baths_num', y='beds_num', ax=axes[1,1]);\n",
    "\n",
    "plt.tight_layout()\n",
    "plt.show()\n",
    "\n",
    "print('Текущее кол-во строк:', data2.shape[0])"
   ]
  },
  {
   "cell_type": "code",
   "execution_count": 41,
   "metadata": {},
   "outputs": [],
   "source": [
    "# Заменим нулевые значения (они, очевидно, являются недействительными) на np.NaN\n",
    "data2['sqft'] = data2['sqft'].apply(lambda x: np.NaN if x==0 else x)\n",
    "data2['stories_num'] = data2['stories_num'].apply(lambda x: np.NaN if x==0 else x)\n",
    "data2['baths_num'] = data2['baths_num'].apply(lambda x: np.NaN if x==0 else x)\n",
    "data2['beds_num'] = data2['beds_num'].apply(lambda x: np.NaN if x==0 else x)"
   ]
  },
  {
   "cell_type": "code",
   "execution_count": 42,
   "metadata": {},
   "outputs": [
    {
     "name": "stdout",
     "output_type": "stream",
     "text": [
      "2.0     58990\n",
      "3.0     39405\n",
      "4.0     15904\n",
      "20.0    12862\n",
      "30.0     9082\n",
      "25.0     8738\n",
      "Name: baths_num, dtype: int64\n",
      "\n",
      "3.0    79745\n",
      "4.0    53032\n",
      "2.0    32138\n",
      "5.0    16503\n",
      "6.0     4520\n",
      "1.0     3326\n",
      "Name: beds_num, dtype: int64\n"
     ]
    }
   ],
   "source": [
    "# Все-таки кажутся странными аномальные числа для количества ванных комнат и спален...\n",
    "# Попробуем поменять тип этих признаков на категориальный, оставив несколько топ значений по частотности и создав категорию others для всех остальных.\n",
    "print(data2['baths_num'].value_counts().iloc[0:6], end='\\n\\n')\n",
    "print(data2['beds_num'].value_counts().iloc[:6])\n",
    "\n",
    "data2['baths_num'] = data2['baths_num'].apply(lambda x: 'others' if x not in range(1, 5) else x)\n",
    "data2['beds_num'] = data2['beds_num'].apply(lambda x: 'others' if x not in range(1, 6) else x)\n",
    "\n"
   ]
  },
  {
   "cell_type": "code",
   "execution_count": 43,
   "metadata": {},
   "outputs": [
    {
     "name": "stdout",
     "output_type": "stream",
     "text": [
      "count    181710.000000\n",
      "mean         43.854262\n",
      "std          33.193105\n",
      "min           3.000000\n",
      "25%          17.000000\n",
      "50%          38.000000\n",
      "75%          67.000000\n",
      "max         966.000000\n",
      "Name: age, dtype: float64\n"
     ]
    },
    {
     "data": {
      "image/png": "[encoded data removed]",
      "text/plain": [
       "<Figure size 500x300 with 1 Axes>"
      ]
     },
     "metadata": {},
     "output_type": "display_data"
    }
   ],
   "source": [
    "# ВИдим, что возраст некоторых объектов якобы доходит почти до 1000 лет, что сомнительно\n",
    "# При этом 75% объектов не старше 67 лет\n",
    "# Заметим, что отрицательные значения у этого признака удалились\n",
    "print(data2['age'].describe())\n",
    "\n",
    "plt.figure(figsize=(5, 3))\n",
    "sns.histplot(data2, x='age');"
   ]
  },
  {
   "cell_type": "code",
   "execution_count": 44,
   "metadata": {},
   "outputs": [
    {
     "name": "stdout",
     "output_type": "stream",
     "text": [
      "Текущее кол-во строк: 181644\n"
     ]
    }
   ],
   "source": [
    "# Из графика: особо сомнительны объекты старше 200 лет\n",
    "data2 = data2[data2['age']<=200]\n",
    "print('Текущее кол-во строк:', data2.shape[0])"
   ]
  },
  {
   "cell_type": "code",
   "execution_count": 45,
   "metadata": {},
   "outputs": [
    {
     "name": "stdout",
     "output_type": "stream",
     "text": [
      "Поазатели корреляции:\n"
     ]
    },
    {
     "name": "stderr",
     "output_type": "stream",
     "text": [
      "C:\\Users\\Питерские котики\\AppData\\Local\\Temp\\ipykernel_11688\\4135677457.py:5: FutureWarning: The default value of numeric_only in DataFrame.corr is deprecated. In a future version, it will default to False. Select only valid columns or specify the value of numeric_only to silence this warning.\n",
      "  corr_df = data2.corr().dropna(thresh=0.99, axis=1).dropna(thresh=1, axis=0).fillna('-')*100\n"
     ]
    },
    {
     "data": {
      "text/plain": [
       "stories_num               1.78\n",
       "PrivatePool               3.63\n",
       "age                       5.56\n",
       "mean_school_distance      5.80\n",
       "max_grade                 6.91\n",
       "zipcode                   7.74\n",
       "mean_school_rating        8.68\n",
       "grades_pk                 9.11\n",
       "grades_k                 19.41\n",
       "sqft                     20.58\n",
       "min_grade                23.42\n",
       "schools_number          100.00\n",
       "Name: schools_number, dtype: float64"
      ]
     },
     "metadata": {},
     "output_type": "display_data"
    }
   ],
   "source": [
    "# Признак количества ближайших школ также ассиметричен вправо\n",
    "# Довольно сложно проследить выбросы, так как непонятно, от чего может зависеть\n",
    "# Посмотрим, что скажет таблица корреляции\n",
    "\n",
    "corr_df = data2.corr().dropna(thresh=0.99, axis=1).dropna(thresh=1, axis=0).fillna('-')*100\n",
    "print('Поазатели корреляции:')\n",
    "display(np.abs(corr_df['schools_number'].round(2)).sort_values())"
   ]
  },
  {
   "cell_type": "code",
   "execution_count": 46,
   "metadata": {},
   "outputs": [
    {
     "data": {
      "image/png": "[encoded data removed]",
      "text/plain": [
       "<Figure size 640x480 with 1 Axes>"
      ]
     },
     "metadata": {},
     "output_type": "display_data"
    },
    {
     "name": "stdout",
     "output_type": "stream",
     "text": [
      "Количество выбросов по минимальному учебному классу: 909\n"
     ]
    }
   ],
   "source": [
    "# Получается, что наибольшая связь у признака с данными по минимальному учебному классу в ближайших школах\n",
    "# Рассмотрим этот признак подробнее\n",
    "sns.histplot(data2, x='min_grade');\n",
    "plt.show()\n",
    "# Смущают минимальные классы от 10-го.\n",
    "print('Количество выбросов по минимальному учебному классу:', data2[data2['min_grade']>=10].shape[0])\n",
    "\n",
    "# Не хочется удалять эти строки, поэтому обнулим их, чтобы затем заполнить их средними значениями, \n",
    "# то есть постараемся сделать данные более обычными \n",
    "data2['min_grade'] = data2['min_grade'].apply(lambda x: np.NaN if x>=10 else x)\n"
   ]
  },
  {
   "cell_type": "code",
   "execution_count": 47,
   "metadata": {},
   "outputs": [
    {
     "data": {
      "image/png": "[encoded data removed]",
      "text/plain": [
       "<Figure size 640x480 with 1 Axes>"
      ]
     },
     "metadata": {},
     "output_type": "display_data"
    },
    {
     "name": "stdout",
     "output_type": "stream",
     "text": [
      "schools_number > 30: 1224\n"
     ]
    }
   ],
   "source": [
    "sns.scatterplot(data2, x='min_grade', y='schools_number');\n",
    "plt.show()\n",
    "\n",
    "# Посмотрим, сколько строк не будет удовлетворять условию\n",
    "print('schools_number > 30:', data2[data2['schools_number']>30].shape[0])\n",
    "\n",
    "# Возьмем порог 30 школ для устранения выбросов (путем замены значений)\n",
    "data2['schools_number'] = data2['schools_number'].apply(lambda x: np.NaN if x>30 else x)\n"
   ]
  },
  {
   "cell_type": "code",
   "execution_count": 48,
   "metadata": {},
   "outputs": [
    {
     "name": "stdout",
     "output_type": "stream",
     "text": [
      "\n",
      "Log:\n",
      "mean_school_distance:\n",
      "lower_bound: -0.27\n",
      "upper_bound: 2.3\n",
      "\n",
      "Верхний порог для mean_school_distance: 10\n",
      "\n",
      "Количество выбросов mean_school_distance: 31\n",
      "Текущее кол-во строк: 180486\n"
     ]
    },
    {
     "data": {
      "image/png": "[encoded data removed]",
      "text/plain": [
       "<Figure size 640x480 with 1 Axes>"
      ]
     },
     "metadata": {},
     "output_type": "display_data"
    }
   ],
   "source": [
    "# Признак 'mean_school_distance' мало коррелирует с остальными\n",
    "# Узнаем порог для выбросов с точки зрения метода IQR-размаха\n",
    "# Передадим логарифмированный признак, чтобы узнать верхнюю границу\n",
    "print('\\nLog:')\n",
    "_ = outliers_iqr(np.log(data2[['mean_school_distance']]+1), 'mean_school_distance')\n",
    "\n",
    "print('\\nВерхний порог для mean_school_distance:', round(np.exp(2.3)))\n",
    "\n",
    "# Сверимся с диаграммой \n",
    "sns.boxplot(data2[data2['mean_school_distance']<100], x='mean_school_distance')\n",
    "# Отодвинем порог до 25\n",
    "print('\\nКоличество выбросов mean_school_distance:', data2[data2['mean_school_distance']>25].shape[0])\n",
    "# Удалим их, поскольку вряд ли удастся качественно замениить на другие (из-за низкой корреляции)\n",
    "data2 = data2[data2['mean_school_distance']<=25]\n",
    "print('Текущее кол-во строк:', data2.shape[0])"
   ]
  },
  {
   "cell_type": "markdown",
   "metadata": {},
   "source": [
    "## Есть ли среди признаков малоинформативные?"
   ]
  },
  {
   "cell_type": "code",
   "execution_count": 49,
   "metadata": {},
   "outputs": [
    {
     "data": {
      "text/html": [
       "<div>\n",
       "<style scoped>\n",
       "    .dataframe tbody tr th:only-of-type {\n",
       "        vertical-align: middle;\n",
       "    }\n",
       "\n",
       "    .dataframe tbody tr th {\n",
       "        vertical-align: top;\n",
       "    }\n",
       "\n",
       "    .dataframe thead th {\n",
       "        text-align: right;\n",
       "    }\n",
       "</style>\n",
       "<table border=\"1\" class=\"dataframe\">\n",
       "  <thead>\n",
       "    <tr style=\"text-align: right;\">\n",
       "      <th></th>\n",
       "      <th>max_val_ratio</th>\n",
       "      <th>nunique_ratio</th>\n",
       "      <th>warning</th>\n",
       "    </tr>\n",
       "  </thead>\n",
       "  <tbody>\n",
       "    <tr>\n",
       "      <th>city</th>\n",
       "      <td>7.529</td>\n",
       "      <td>0.776</td>\n",
       "      <td>-</td>\n",
       "    </tr>\n",
       "    <tr>\n",
       "      <th>sqft</th>\n",
       "      <td>6.645</td>\n",
       "      <td>3.721</td>\n",
       "      <td>-</td>\n",
       "    </tr>\n",
       "    <tr>\n",
       "      <th>zipcode</th>\n",
       "      <td>0.41</td>\n",
       "      <td>2.114</td>\n",
       "      <td>-</td>\n",
       "    </tr>\n",
       "    <tr>\n",
       "      <th>state</th>\n",
       "      <td>26.63</td>\n",
       "      <td>0.017</td>\n",
       "      <td>-</td>\n",
       "    </tr>\n",
       "    <tr>\n",
       "      <th>PrivatePool</th>\n",
       "      <td>83.232</td>\n",
       "      <td>0.001</td>\n",
       "      <td>-</td>\n",
       "    </tr>\n",
       "    <tr>\n",
       "      <th>target</th>\n",
       "      <td>0.513</td>\n",
       "      <td>12.828</td>\n",
       "      <td>-</td>\n",
       "    </tr>\n",
       "    <tr>\n",
       "      <th>fireplace_type</th>\n",
       "      <td>61.344</td>\n",
       "      <td>0.005</td>\n",
       "      <td>-</td>\n",
       "    </tr>\n",
       "    <tr>\n",
       "      <th>stories_num</th>\n",
       "      <td>45.094</td>\n",
       "      <td>0.044</td>\n",
       "      <td>-</td>\n",
       "    </tr>\n",
       "    <tr>\n",
       "      <th>baths_num</th>\n",
       "      <td>36.151</td>\n",
       "      <td>0.003</td>\n",
       "      <td>-</td>\n",
       "    </tr>\n",
       "    <tr>\n",
       "      <th>beds_num</th>\n",
       "      <td>41.399</td>\n",
       "      <td>0.003</td>\n",
       "      <td>-</td>\n",
       "    </tr>\n",
       "    <tr>\n",
       "      <th>age</th>\n",
       "      <td>9.405</td>\n",
       "      <td>0.105</td>\n",
       "      <td>-</td>\n",
       "    </tr>\n",
       "    <tr>\n",
       "      <th>is_remodeled</th>\n",
       "      <td>100.0</td>\n",
       "      <td>0.001</td>\n",
       "      <td>is over 95%</td>\n",
       "    </tr>\n",
       "    <tr>\n",
       "      <th>heating_type</th>\n",
       "      <td>57.294</td>\n",
       "      <td>0.007</td>\n",
       "      <td>-</td>\n",
       "    </tr>\n",
       "    <tr>\n",
       "      <th>parking_type</th>\n",
       "      <td>33.067</td>\n",
       "      <td>0.009</td>\n",
       "      <td>-</td>\n",
       "    </tr>\n",
       "    <tr>\n",
       "      <th>mean_school_rating</th>\n",
       "      <td>5.781</td>\n",
       "      <td>0.094</td>\n",
       "      <td>-</td>\n",
       "    </tr>\n",
       "    <tr>\n",
       "      <th>schools_number</th>\n",
       "      <td>61.299</td>\n",
       "      <td>0.012</td>\n",
       "      <td>-</td>\n",
       "    </tr>\n",
       "    <tr>\n",
       "      <th>mean_school_distance</th>\n",
       "      <td>1.011</td>\n",
       "      <td>1.003</td>\n",
       "      <td>-</td>\n",
       "    </tr>\n",
       "    <tr>\n",
       "      <th>grades_pk</th>\n",
       "      <td>74.182</td>\n",
       "      <td>0.001</td>\n",
       "      <td>-</td>\n",
       "    </tr>\n",
       "    <tr>\n",
       "      <th>grades_k</th>\n",
       "      <td>65.069</td>\n",
       "      <td>0.001</td>\n",
       "      <td>-</td>\n",
       "    </tr>\n",
       "    <tr>\n",
       "      <th>min_grade</th>\n",
       "      <td>65.044</td>\n",
       "      <td>0.005</td>\n",
       "      <td>-</td>\n",
       "    </tr>\n",
       "    <tr>\n",
       "      <th>max_grade</th>\n",
       "      <td>97.628</td>\n",
       "      <td>0.006</td>\n",
       "      <td>is over 95%</td>\n",
       "    </tr>\n",
       "    <tr>\n",
       "      <th>street_type</th>\n",
       "      <td>22.228</td>\n",
       "      <td>0.014</td>\n",
       "      <td>-</td>\n",
       "    </tr>\n",
       "    <tr>\n",
       "      <th>property_type</th>\n",
       "      <td>74.812</td>\n",
       "      <td>0.005</td>\n",
       "      <td>-</td>\n",
       "    </tr>\n",
       "    <tr>\n",
       "      <th>status_type</th>\n",
       "      <td>74.223</td>\n",
       "      <td>0.011</td>\n",
       "      <td>-</td>\n",
       "    </tr>\n",
       "  </tbody>\n",
       "</table>\n",
       "</div>"
      ],
      "text/plain": [
       "                     max_val_ratio nunique_ratio      warning\n",
       "city                         7.529         0.776            -\n",
       "sqft                         6.645         3.721            -\n",
       "zipcode                       0.41         2.114            -\n",
       "state                        26.63         0.017            -\n",
       "PrivatePool                 83.232         0.001            -\n",
       "target                       0.513        12.828            -\n",
       "fireplace_type              61.344         0.005            -\n",
       "stories_num                 45.094         0.044            -\n",
       "baths_num                   36.151         0.003            -\n",
       "beds_num                    41.399         0.003            -\n",
       "age                          9.405         0.105            -\n",
       "is_remodeled                 100.0         0.001  is over 95%\n",
       "heating_type                57.294         0.007            -\n",
       "parking_type                33.067         0.009            -\n",
       "mean_school_rating           5.781         0.094            -\n",
       "schools_number              61.299         0.012            -\n",
       "mean_school_distance         1.011         1.003            -\n",
       "grades_pk                   74.182         0.001            -\n",
       "grades_k                    65.069         0.001            -\n",
       "min_grade                   65.044         0.005            -\n",
       "max_grade                   97.628         0.006  is over 95%\n",
       "street_type                 22.228         0.014            -\n",
       "property_type               74.812         0.005            -\n",
       "status_type                 74.223         0.011            -"
      ]
     },
     "metadata": {},
     "output_type": "display_data"
    }
   ],
   "source": [
    "# Приведем функцию для определения малоинформативности\n",
    "\n",
    "def check_informativeness(df_col=np.NaN, df=np.NaN):\n",
    "    \n",
    "    def calc_inform(col):\n",
    "        max_val_ratio = round(col.value_counts().max()*100/col.shape[0], 3)\n",
    "        nunique_ratio = round(col.nunique()*100/col.shape[0], 3)\n",
    "        warning = 'is over 95%' if (max_val_ratio>95) or (nunique_ratio>95) else '-'\n",
    "        \n",
    "        result = pd.DataFrame({\n",
    "            col.name: {\n",
    "                'max_val_ratio': max_val_ratio, \n",
    "                'nunique_ratio': nunique_ratio,\n",
    "                'warning': warning,\n",
    "            }\n",
    "        }).transpose()\n",
    "        \n",
    "        return result\n",
    "    \n",
    "    if df_col is not np.NaN:\n",
    "        return calc_inform(df_col)\n",
    "    \n",
    "    if df is not np.NaN:\n",
    "        df_dict = {}\n",
    "        \n",
    "        for col in df.columns:\n",
    "            df_dict[col] = calc_inform(df[col]).iloc[0].to_dict()\n",
    "    \n",
    "        result = pd.DataFrame(df_dict).transpose()\n",
    "        \n",
    "    return result\n",
    "\n",
    "display(check_informativeness(df=data2))"
   ]
  },
  {
   "cell_type": "code",
   "execution_count": 50,
   "metadata": {},
   "outputs": [],
   "source": [
    "# Выявиди два малоинформативных признака, которые удалим\n",
    "data2.drop(columns=['is_remodeled', 'max_grade'], inplace=True)"
   ]
  },
  {
   "cell_type": "markdown",
   "metadata": {},
   "source": [
    "## Заполнение пропусков"
   ]
  },
  {
   "cell_type": "code",
   "execution_count": 51,
   "metadata": {},
   "outputs": [
    {
     "name": "stdout",
     "output_type": "stream",
     "text": [
      "Размер датасета: (180486, 22)\n",
      "Процент пропусков:\n",
      "status_type           15.606751\n",
      "sqft                  14.092506\n",
      "stories_num            6.100750\n",
      "schools_number         0.678169\n",
      "min_grade              0.513613\n",
      "mean_school_rating     0.325233\n",
      "city                   0.002216\n",
      "dtype: float64\n",
      "\n",
      "\n",
      "Поазатели корреляции:\n"
     ]
    },
    {
     "data": {
      "text/html": [
       "<div>\n",
       "<style scoped>\n",
       "    .dataframe tbody tr th:only-of-type {\n",
       "        vertical-align: middle;\n",
       "    }\n",
       "\n",
       "    .dataframe tbody tr th {\n",
       "        vertical-align: top;\n",
       "    }\n",
       "\n",
       "    .dataframe thead th {\n",
       "        text-align: right;\n",
       "    }\n",
       "</style>\n",
       "<table border=\"1\" class=\"dataframe\">\n",
       "  <thead>\n",
       "    <tr style=\"text-align: right;\">\n",
       "      <th></th>\n",
       "      <th>sqft</th>\n",
       "      <th>mean_school_rating</th>\n",
       "      <th>min_grade</th>\n",
       "      <th>stories_num</th>\n",
       "      <th>schools_number</th>\n",
       "    </tr>\n",
       "  </thead>\n",
       "  <tbody>\n",
       "    <tr>\n",
       "      <th>sqft</th>\n",
       "      <td>100.00</td>\n",
       "      <td>2.76</td>\n",
       "      <td>30.53</td>\n",
       "      <td>1.52</td>\n",
       "      <td>43.07</td>\n",
       "    </tr>\n",
       "    <tr>\n",
       "      <th>zipcode</th>\n",
       "      <td>10.46</td>\n",
       "      <td>12.76</td>\n",
       "      <td>1.89</td>\n",
       "      <td>11.55</td>\n",
       "      <td>11.38</td>\n",
       "    </tr>\n",
       "    <tr>\n",
       "      <th>PrivatePool</th>\n",
       "      <td>17.08</td>\n",
       "      <td>16.74</td>\n",
       "      <td>8.26</td>\n",
       "      <td>8.93</td>\n",
       "      <td>2.87</td>\n",
       "    </tr>\n",
       "    <tr>\n",
       "      <th>stories_num</th>\n",
       "      <td>1.52</td>\n",
       "      <td>6.23</td>\n",
       "      <td>7.76</td>\n",
       "      <td>100.00</td>\n",
       "      <td>2.16</td>\n",
       "    </tr>\n",
       "    <tr>\n",
       "      <th>age</th>\n",
       "      <td>6.94</td>\n",
       "      <td>27.64</td>\n",
       "      <td>8.85</td>\n",
       "      <td>3.57</td>\n",
       "      <td>3.97</td>\n",
       "    </tr>\n",
       "    <tr>\n",
       "      <th>mean_school_rating</th>\n",
       "      <td>2.76</td>\n",
       "      <td>100.00</td>\n",
       "      <td>3.12</td>\n",
       "      <td>6.23</td>\n",
       "      <td>3.74</td>\n",
       "    </tr>\n",
       "    <tr>\n",
       "      <th>schools_number</th>\n",
       "      <td>43.07</td>\n",
       "      <td>3.74</td>\n",
       "      <td>29.91</td>\n",
       "      <td>2.16</td>\n",
       "      <td>100.00</td>\n",
       "    </tr>\n",
       "    <tr>\n",
       "      <th>mean_school_distance</th>\n",
       "      <td>0.33</td>\n",
       "      <td>13.32</td>\n",
       "      <td>15.52</td>\n",
       "      <td>0.86</td>\n",
       "      <td>20.06</td>\n",
       "    </tr>\n",
       "    <tr>\n",
       "      <th>grades_pk</th>\n",
       "      <td>13.10</td>\n",
       "      <td>2.33</td>\n",
       "      <td>6.35</td>\n",
       "      <td>0.25</td>\n",
       "      <td>9.43</td>\n",
       "    </tr>\n",
       "    <tr>\n",
       "      <th>grades_k</th>\n",
       "      <td>27.75</td>\n",
       "      <td>2.79</td>\n",
       "      <td>12.96</td>\n",
       "      <td>1.22</td>\n",
       "      <td>22.35</td>\n",
       "    </tr>\n",
       "    <tr>\n",
       "      <th>min_grade</th>\n",
       "      <td>30.53</td>\n",
       "      <td>3.12</td>\n",
       "      <td>100.00</td>\n",
       "      <td>7.76</td>\n",
       "      <td>29.91</td>\n",
       "    </tr>\n",
       "  </tbody>\n",
       "</table>\n",
       "</div>"
      ],
      "text/plain": [
       "                        sqft  mean_school_rating  min_grade  stories_num  \\\n",
       "sqft                  100.00                2.76      30.53         1.52   \n",
       "zipcode                10.46               12.76       1.89        11.55   \n",
       "PrivatePool            17.08               16.74       8.26         8.93   \n",
       "stories_num             1.52                6.23       7.76       100.00   \n",
       "age                     6.94               27.64       8.85         3.57   \n",
       "mean_school_rating      2.76              100.00       3.12         6.23   \n",
       "schools_number         43.07                3.74      29.91         2.16   \n",
       "mean_school_distance    0.33               13.32      15.52         0.86   \n",
       "grades_pk              13.10                2.33       6.35         0.25   \n",
       "grades_k               27.75                2.79      12.96         1.22   \n",
       "min_grade              30.53                3.12     100.00         7.76   \n",
       "\n",
       "                      schools_number  \n",
       "sqft                           43.07  \n",
       "zipcode                        11.38  \n",
       "PrivatePool                     2.87  \n",
       "stories_num                     2.16  \n",
       "age                             3.97  \n",
       "mean_school_rating              3.74  \n",
       "schools_number                100.00  \n",
       "mean_school_distance           20.06  \n",
       "grades_pk                       9.43  \n",
       "grades_k                       22.35  \n",
       "min_grade                      29.91  "
      ]
     },
     "metadata": {},
     "output_type": "display_data"
    }
   ],
   "source": [
    "print('Размер датасета:', data2.shape)\n",
    "\n",
    "print('Процент пропусков:')\n",
    "data2_nans = (data2.isna().sum()*100/data2.shape[0]).sort_values(ascending=False)\n",
    "data2_nans = data2_nans[data2_nans>0]\n",
    "print(data2_nans)\n",
    "\n",
    "# Выведем табл.корреляции, чтобы удобнее было подбирать признаки для замены\n",
    "num_nans = list(set(data2_nans.index).difference(set(data2.select_dtypes(include='object'))))\n",
    "corr_df = (data2.corr(numeric_only=True)[num_nans].fillna('-')*100).round(2)\n",
    "print('\\n\\nПоазатели корреляции:')\n",
    "display(np.abs(corr_df))"
   ]
  },
  {
   "cell_type": "code",
   "execution_count": 52,
   "metadata": {},
   "outputs": [
    {
     "name": "stdout",
     "output_type": "stream",
     "text": [
      "Кол-во пропусков в датасете: 0\n"
     ]
    }
   ],
   "source": [
    "# sqft\n",
    "data2['sqft'] = data2['sqft'].fillna(data2.groupby(['min_grade', 'schools_number'])['sqft'].transform('mean'))\n",
    "data2['sqft'] = data2['sqft'].fillna(data2.groupby(['schools_number'])['sqft'].transform('mean'))\n",
    "data2['sqft'] = data2['sqft'].fillna(data2.groupby(['min_grade', 'grades_k'])['sqft'].transform('mean'))\n",
    "# stories_num\n",
    "data2['stories_num'] = data2['stories_num'].fillna(data2.groupby(['PrivatePool', 'zipcode'])['stories_num'].transform('mean'))\n",
    "data2['stories_num'] = data2['stories_num'].fillna(data2.groupby('zipcode')['stories_num'].transform('mean'))\n",
    "data2['stories_num'] = data2['stories_num'].fillna(data2.groupby('beds_num')['stories_num'].transform('mean'))\n",
    "# baths_num\n",
    "data2['baths_num'] = data2['baths_num'].fillna(data2.groupby(['zipcode', 'beds_num'])['baths_num'].transform(lambda x: x.value_counts().index[0]))\n",
    "data2['baths_num'] = data2['baths_num'].fillna(data2.groupby('beds_num')['baths_num'].transform(lambda x: x.value_counts().index[0]))\n",
    "data2['baths_num'] = data2['baths_num'].fillna(data2.groupby(['sqft'])['baths_num'].transform(lambda x: x.value_counts().index[0]))\n",
    "data2['baths_num'] = data2['baths_num'].fillna(data2.groupby(['stories_num'])['baths_num'].transform(lambda x: x.value_counts().index[0]))\n",
    "# schools_number\n",
    "data2['schools_number'] = data2['schools_number'].fillna(data2.groupby(['sqft', 'min_grade'])['schools_number'].transform('mean'))\n",
    "data2['schools_number'] = data2['schools_number'].fillna(data2.groupby(['grades_k', 'min_grade'])['schools_number'].transform('mean'))\n",
    "# min_grade\n",
    "data2['min_grade'] = data2['min_grade'].fillna(data2.groupby(['sqft', 'schools_number'])['min_grade'].transform('mean'))\n",
    "data2['min_grade'] = data2['min_grade'].fillna(data2.groupby(['grades_k', 'sqft'])['min_grade'].transform('mean'))\n",
    "data2['min_grade'] = data2['min_grade'].fillna(data2.groupby(['grades_k', 'mean_school_distance'])['min_grade'].transform('mean'))\n",
    "# beds_num\n",
    "data2['beds_num'] = data2['beds_num'].fillna(data2.groupby(['baths_num'])['beds_num'].transform(lambda x: x.value_counts().index[0]))\n",
    "data2['beds_num'] = data2['beds_num'].fillna(data2.groupby(['sqft'])['beds_num'].transform(lambda x: x.value_counts().index[0]))\n",
    "data2['beds_num'] = data2['beds_num'].fillna(data2.groupby(['stories_num'])['beds_num'].transform(lambda x: x.value_counts().index[0]))\n",
    "\n",
    "data2['mean_school_rating'] = data2['mean_school_rating'].fillna(data2.groupby(['PrivatePool', 'age'])['mean_school_rating'].transform('mean'))\n",
    "\n",
    "data2['status_type'] = data2['status_type'].fillna('unknown')\n",
    "data2['city'] = data2['city'].fillna(data2.groupby(['state', 'zipcode'])['city'].transform(lambda x: x.value_counts().index[0]))\n",
    "\n",
    "print('Кол-во пропусков в датасете:', data2.isna().sum().sum())"
   ]
  },
  {
   "cell_type": "markdown",
   "metadata": {},
   "source": [
    "## Кодирование признаков"
   ]
  },
  {
   "cell_type": "code",
   "execution_count": 53,
   "metadata": {},
   "outputs": [
    {
     "data": {
      "text/html": [
       "<div>\n",
       "<style scoped>\n",
       "    .dataframe tbody tr th:only-of-type {\n",
       "        vertical-align: middle;\n",
       "    }\n",
       "\n",
       "    .dataframe tbody tr th {\n",
       "        vertical-align: top;\n",
       "    }\n",
       "\n",
       "    .dataframe thead th {\n",
       "        text-align: right;\n",
       "    }\n",
       "</style>\n",
       "<table border=\"1\" class=\"dataframe\">\n",
       "  <thead>\n",
       "    <tr style=\"text-align: right;\">\n",
       "      <th></th>\n",
       "      <th>city</th>\n",
       "      <th>state</th>\n",
       "      <th>target</th>\n",
       "      <th>fireplace_type</th>\n",
       "      <th>baths_num</th>\n",
       "      <th>beds_num</th>\n",
       "      <th>heating_type</th>\n",
       "      <th>parking_type</th>\n",
       "      <th>street_type</th>\n",
       "      <th>property_type</th>\n",
       "      <th>status_type</th>\n",
       "    </tr>\n",
       "  </thead>\n",
       "  <tbody>\n",
       "    <tr>\n",
       "      <th>count</th>\n",
       "      <td>180486</td>\n",
       "      <td>180486</td>\n",
       "      <td>180486</td>\n",
       "      <td>180486</td>\n",
       "      <td>180486</td>\n",
       "      <td>180486.0</td>\n",
       "      <td>180486</td>\n",
       "      <td>180486</td>\n",
       "      <td>180486</td>\n",
       "      <td>180486</td>\n",
       "      <td>180486</td>\n",
       "    </tr>\n",
       "    <tr>\n",
       "      <th>unique</th>\n",
       "      <td>1401</td>\n",
       "      <td>31</td>\n",
       "      <td>23152</td>\n",
       "      <td>9</td>\n",
       "      <td>5</td>\n",
       "      <td>6.0</td>\n",
       "      <td>12</td>\n",
       "      <td>17</td>\n",
       "      <td>25</td>\n",
       "      <td>9</td>\n",
       "      <td>21</td>\n",
       "    </tr>\n",
       "    <tr>\n",
       "      <th>top</th>\n",
       "      <td>houston</td>\n",
       "      <td>FL</td>\n",
       "      <td>$225,000</td>\n",
       "      <td>unknown</td>\n",
       "      <td>others</td>\n",
       "      <td>3.0</td>\n",
       "      <td>air</td>\n",
       "      <td>attached</td>\n",
       "      <td>st</td>\n",
       "      <td>single family</td>\n",
       "      <td>activated</td>\n",
       "    </tr>\n",
       "    <tr>\n",
       "      <th>freq</th>\n",
       "      <td>13589</td>\n",
       "      <td>48063</td>\n",
       "      <td>926</td>\n",
       "      <td>110717</td>\n",
       "      <td>65247</td>\n",
       "      <td>74720.0</td>\n",
       "      <td>103407</td>\n",
       "      <td>59681</td>\n",
       "      <td>40119</td>\n",
       "      <td>135026</td>\n",
       "      <td>133963</td>\n",
       "    </tr>\n",
       "  </tbody>\n",
       "</table>\n",
       "</div>"
      ],
      "text/plain": [
       "           city   state    target fireplace_type baths_num  beds_num  \\\n",
       "count    180486  180486    180486         180486    180486  180486.0   \n",
       "unique     1401      31     23152              9         5       6.0   \n",
       "top     houston      FL  $225,000        unknown    others       3.0   \n",
       "freq      13589   48063       926         110717     65247   74720.0   \n",
       "\n",
       "       heating_type parking_type street_type  property_type status_type  \n",
       "count        180486       180486      180486         180486      180486  \n",
       "unique           12           17          25              9          21  \n",
       "top             air     attached          st  single family   activated  \n",
       "freq         103407        59681       40119         135026      133963  "
      ]
     },
     "execution_count": 53,
     "metadata": {},
     "output_type": "execute_result"
    }
   ],
   "source": [
    "data2.describe(include='object')\n",
    "# Видим, что наибольшее число значений содержится в поле city"
   ]
  },
  {
   "cell_type": "code",
   "execution_count": 54,
   "metadata": {},
   "outputs": [
    {
     "data": {
      "text/html": [
       "<div>\n",
       "<style scoped>\n",
       "    .dataframe tbody tr th:only-of-type {\n",
       "        vertical-align: middle;\n",
       "    }\n",
       "\n",
       "    .dataframe tbody tr th {\n",
       "        vertical-align: top;\n",
       "    }\n",
       "\n",
       "    .dataframe thead th {\n",
       "        text-align: right;\n",
       "    }\n",
       "</style>\n",
       "<table border=\"1\" class=\"dataframe\">\n",
       "  <thead>\n",
       "    <tr style=\"text-align: right;\">\n",
       "      <th></th>\n",
       "      <th>sqft</th>\n",
       "      <th>zipcode</th>\n",
       "      <th>PrivatePool</th>\n",
       "      <th>stories_num</th>\n",
       "      <th>age</th>\n",
       "      <th>mean_school_rating</th>\n",
       "      <th>schools_number</th>\n",
       "      <th>mean_school_distance</th>\n",
       "      <th>grades_pk</th>\n",
       "      <th>grades_k</th>\n",
       "      <th>min_grade</th>\n",
       "    </tr>\n",
       "  </thead>\n",
       "  <tbody>\n",
       "    <tr>\n",
       "      <th>count</th>\n",
       "      <td>180486.000000</td>\n",
       "      <td>180486.000000</td>\n",
       "      <td>180486.000000</td>\n",
       "      <td>180486.000000</td>\n",
       "      <td>180486.000000</td>\n",
       "      <td>180486.000000</td>\n",
       "      <td>180486.000000</td>\n",
       "      <td>180486.000000</td>\n",
       "      <td>180486.000000</td>\n",
       "      <td>180486.000000</td>\n",
       "      <td>180486.00000</td>\n",
       "    </tr>\n",
       "    <tr>\n",
       "      <th>mean</th>\n",
       "      <td>365.683555</td>\n",
       "      <td>54301.325067</td>\n",
       "      <td>0.167681</td>\n",
       "      <td>1.944675</td>\n",
       "      <td>43.742584</td>\n",
       "      <td>5.118846</td>\n",
       "      <td>4.041037</td>\n",
       "      <td>2.510741</td>\n",
       "      <td>0.741825</td>\n",
       "      <td>0.349312</td>\n",
       "      <td>5.08642</td>\n",
       "    </tr>\n",
       "    <tr>\n",
       "      <th>std</th>\n",
       "      <td>927.348873</td>\n",
       "      <td>26644.988822</td>\n",
       "      <td>0.373583</td>\n",
       "      <td>2.647793</td>\n",
       "      <td>32.857939</td>\n",
       "      <td>1.976747</td>\n",
       "      <td>2.947794</td>\n",
       "      <td>2.650695</td>\n",
       "      <td>0.437632</td>\n",
       "      <td>0.476754</td>\n",
       "      <td>1.35158</td>\n",
       "    </tr>\n",
       "    <tr>\n",
       "      <th>min</th>\n",
       "      <td>1.000000</td>\n",
       "      <td>1103.000000</td>\n",
       "      <td>0.000000</td>\n",
       "      <td>1.000000</td>\n",
       "      <td>3.000000</td>\n",
       "      <td>1.000000</td>\n",
       "      <td>1.000000</td>\n",
       "      <td>0.020000</td>\n",
       "      <td>0.000000</td>\n",
       "      <td>0.000000</td>\n",
       "      <td>1.00000</td>\n",
       "    </tr>\n",
       "    <tr>\n",
       "      <th>25%</th>\n",
       "      <td>2.613000</td>\n",
       "      <td>33069.000000</td>\n",
       "      <td>0.000000</td>\n",
       "      <td>1.000000</td>\n",
       "      <td>17.000000</td>\n",
       "      <td>3.500000</td>\n",
       "      <td>3.000000</td>\n",
       "      <td>1.010000</td>\n",
       "      <td>0.000000</td>\n",
       "      <td>0.000000</td>\n",
       "      <td>5.00000</td>\n",
       "    </tr>\n",
       "    <tr>\n",
       "      <th>50%</th>\n",
       "      <td>6.000000</td>\n",
       "      <td>44121.000000</td>\n",
       "      <td>0.000000</td>\n",
       "      <td>2.000000</td>\n",
       "      <td>38.000000</td>\n",
       "      <td>5.000000</td>\n",
       "      <td>3.000000</td>\n",
       "      <td>1.630000</td>\n",
       "      <td>1.000000</td>\n",
       "      <td>0.000000</td>\n",
       "      <td>5.00000</td>\n",
       "    </tr>\n",
       "    <tr>\n",
       "      <th>75%</th>\n",
       "      <td>30.502104</td>\n",
       "      <td>78209.000000</td>\n",
       "      <td>0.000000</td>\n",
       "      <td>2.000000</td>\n",
       "      <td>67.000000</td>\n",
       "      <td>6.500000</td>\n",
       "      <td>3.913713</td>\n",
       "      <td>2.820000</td>\n",
       "      <td>1.000000</td>\n",
       "      <td>1.000000</td>\n",
       "      <td>5.00000</td>\n",
       "    </tr>\n",
       "    <tr>\n",
       "      <th>max</th>\n",
       "      <td>22740.000000</td>\n",
       "      <td>99338.000000</td>\n",
       "      <td>1.000000</td>\n",
       "      <td>96.000000</td>\n",
       "      <td>200.000000</td>\n",
       "      <td>10.000000</td>\n",
       "      <td>24.000000</td>\n",
       "      <td>24.920000</td>\n",
       "      <td>1.000000</td>\n",
       "      <td>1.000000</td>\n",
       "      <td>9.00000</td>\n",
       "    </tr>\n",
       "  </tbody>\n",
       "</table>\n",
       "</div>"
      ],
      "text/plain": [
       "                sqft        zipcode    PrivatePool    stories_num  \\\n",
       "count  180486.000000  180486.000000  180486.000000  180486.000000   \n",
       "mean      365.683555   54301.325067       0.167681       1.944675   \n",
       "std       927.348873   26644.988822       0.373583       2.647793   \n",
       "min         1.000000    1103.000000       0.000000       1.000000   \n",
       "25%         2.613000   33069.000000       0.000000       1.000000   \n",
       "50%         6.000000   44121.000000       0.000000       2.000000   \n",
       "75%        30.502104   78209.000000       0.000000       2.000000   \n",
       "max     22740.000000   99338.000000       1.000000      96.000000   \n",
       "\n",
       "                 age  mean_school_rating  schools_number  \\\n",
       "count  180486.000000       180486.000000   180486.000000   \n",
       "mean       43.742584            5.118846        4.041037   \n",
       "std        32.857939            1.976747        2.947794   \n",
       "min         3.000000            1.000000        1.000000   \n",
       "25%        17.000000            3.500000        3.000000   \n",
       "50%        38.000000            5.000000        3.000000   \n",
       "75%        67.000000            6.500000        3.913713   \n",
       "max       200.000000           10.000000       24.000000   \n",
       "\n",
       "       mean_school_distance      grades_pk       grades_k     min_grade  \n",
       "count         180486.000000  180486.000000  180486.000000  180486.00000  \n",
       "mean               2.510741       0.741825       0.349312       5.08642  \n",
       "std                2.650695       0.437632       0.476754       1.35158  \n",
       "min                0.020000       0.000000       0.000000       1.00000  \n",
       "25%                1.010000       0.000000       0.000000       5.00000  \n",
       "50%                1.630000       1.000000       0.000000       5.00000  \n",
       "75%                2.820000       1.000000       1.000000       5.00000  \n",
       "max               24.920000       1.000000       1.000000       9.00000  "
      ]
     },
     "execution_count": 54,
     "metadata": {},
     "output_type": "execute_result"
    }
   ],
   "source": [
    "data2.describe(include='number')"
   ]
  },
  {
   "cell_type": "code",
   "execution_count": 55,
   "metadata": {},
   "outputs": [
    {
     "data": {
      "text/plain": [
       "PrivatePool               int64\n",
       "age                     float64\n",
       "baths_num                object\n",
       "beds_num                 object\n",
       "city                     object\n",
       "fireplace_type           object\n",
       "grades_k                  int64\n",
       "grades_pk                 int64\n",
       "heating_type             object\n",
       "mean_school_distance    float64\n",
       "mean_school_rating      float64\n",
       "min_grade               float64\n",
       "parking_type             object\n",
       "property_type            object\n",
       "schools_number          float64\n",
       "sqft                    float64\n",
       "state                    object\n",
       "status_type              object\n",
       "stories_num             float64\n",
       "street_type              object\n",
       "target                   object\n",
       "zipcode                 float64\n",
       "dtype: object"
      ]
     },
     "execution_count": 55,
     "metadata": {},
     "output_type": "execute_result"
    }
   ],
   "source": [
    "data2.dtypes.sort_index()"
   ]
  },
  {
   "cell_type": "markdown",
   "metadata": {},
   "source": [
    "### Выясняем корреляцию с признаком city"
   ]
  },
  {
   "cell_type": "code",
   "execution_count": 56,
   "metadata": {},
   "outputs": [
    {
     "name": "stdout",
     "output_type": "stream",
     "text": [
      "Корреляция city с нечисловыми признаками:\n",
      "                      Статистика  p-значение\n",
      "0             city  2.526804e+08         0.0\n",
      "2           target  3.444857e+07         0.0\n",
      "1            state  4.795122e+06         0.0\n",
      "10     status_type  5.287654e+05         0.0\n",
      "8      street_type  2.701220e+05         0.0\n",
      "6     heating_type  2.683381e+05         0.0\n",
      "7     parking_type  2.561904e+05         0.0\n",
      "3   fireplace_type  2.114885e+05         0.0\n",
      "9    property_type  1.638349e+05         0.0\n",
      "4        baths_num  6.800116e+04         0.0\n",
      "5         beds_num  4.574911e+04         0.0\n",
      "\n"
     ]
    },
    {
     "name": "stderr",
     "output_type": "stream",
     "text": [
      "c:\\Users\\Питерские котики\\AppData\\Local\\Programs\\Python\\Python39\\lib\\site-packages\\scipy\\stats\\_stats_py.py:112: RuntimeWarning: The input array could not be properly checked for nan values. nan values will be ignored.\n",
      "  warnings.warn(\"The input array could not be properly \"\n"
     ]
    },
    {
     "name": "stdout",
     "output_type": "stream",
     "text": [
      "Корреляция city с числовыми признаками:\n",
      "                          Статистика  p-значение\n",
      "1                zipcode        0.07         0.0\n",
      "6         schools_number        0.05         0.0\n",
      "7   mean_school_distance        0.04         0.0\n",
      "3            stories_num        0.03         0.0\n",
      "8              grades_pk        0.03         0.0\n",
      "10             min_grade        0.03         0.0\n",
      "0                   sqft        0.02         0.0\n",
      "2            PrivatePool        0.02         0.0\n",
      "4                    age        0.02         0.0\n",
      "5     mean_school_rating        0.02         0.0\n",
      "9               grades_k        0.02         0.0\n",
      "\n"
     ]
    }
   ],
   "source": [
    "obj_columns = data2.select_dtypes(include='object').columns\n",
    "num_columns = data2.select_dtypes(include='number').columns\n",
    "\n",
    "# Попробуем заменить признак city данными полученными от кластеризации по признакам, которые имеют наибольшую силу корреляции с исходным\n",
    "# Для определения корреляции будет использовать непараметрические тесты\n",
    "from scipy.stats import chi2_contingency\n",
    "from scipy.stats import spearmanr\n",
    "\n",
    "\n",
    "chi_stat = []\n",
    "chi_p = []\n",
    "\n",
    "for col in obj_columns:\n",
    "    # Создание таблицы сопряженности для проведения теста хи-квадрат\n",
    "    contingency_table = pd.crosstab(data2['city'], data2[col])\n",
    "\n",
    "    # Проведение теста хи-квадрат\n",
    "    chi2, p_value, _, _ = chi2_contingency(contingency_table)\n",
    "    chi_stat.append(round(chi2, 2))\n",
    "    chi_p.append(round(p_value, 2))\n",
    "   \n",
    "# Вывод результатов\n",
    "chi_df = pd.DataFrame(data= {'': obj_columns, 'Статистика': chi_stat, 'p-значение': chi_p}).sort_values(by='Статистика', ascending=False)\n",
    "print('Корреляция city с нечисловыми признаками:', chi_df, sep='\\n', end='\\n\\n')\n",
    "\n",
    "\n",
    "spear_corr = []\n",
    "spear_p = []\n",
    "\n",
    "for col in num_columns:\n",
    "    correlation, p_value = spearmanr(data2['city'], data2[col])\n",
    "    spear_corr.append(round(np.abs(correlation), 2))\n",
    "    spear_p.append(round(p_value, 2))\n",
    "    \n",
    "spear_df = pd.DataFrame(data= {'': num_columns, 'Статистика': spear_corr, 'p-значение': spear_p}).sort_values(by='Статистика', ascending=False)\n",
    "print('Корреляция city с числовыми признаками:', spear_df, sep='\\n', end='\\n\\n')"
   ]
  },
  {
   "cell_type": "code",
   "execution_count": 57,
   "metadata": {},
   "outputs": [],
   "source": [
    "# Для кластеризации возьмем признаки state, status_type, zipcode, schools_number\n",
    "\n",
    "state_dummies = pd.get_dummies(data2['state']) \n",
    "status_dummies = pd.get_dummies(data2['status_type'])\n",
    "\n",
    "data2['zipcode'] = data2['zipcode'].astype(int)\n",
    "data2['schools_number'] = data2['schools_number'].astype(int)\n",
    "\n",
    "city_cluster_features = pd.concat([state_dummies, status_dummies, data2['zipcode'], data2['schools_number']], axis=1)"
   ]
  },
  {
   "cell_type": "markdown",
   "metadata": {},
   "source": [
    "### Кластеризация для замены city"
   ]
  },
  {
   "cell_type": "code",
   "execution_count": 58,
   "metadata": {},
   "outputs": [
    {
     "data": {
      "image/png": "[encoded data removed]",
      "text/plain": [
       "<Figure size 640x480 with 1 Axes>"
      ]
     },
     "metadata": {},
     "output_type": "display_data"
    }
   ],
   "source": [
    "\n",
    "from sklearn.cluster import KMeans\n",
    "from sklearn.preprocessing import StandardScaler\n",
    "\n",
    "scaler = StandardScaler()\n",
    "city_features_scaled = scaler.fit_transform(city_cluster_features)\n",
    "\n",
    "# Определение диапазона числа кластеров методом локтя\n",
    "n = 30\n",
    "n_clusters_range = range(1, n - 1)\n",
    "\n",
    "# Вычисление суммы квадратов расстояний для каждого числа кластеров\n",
    "inertia_values = []\n",
    "for n_clusters in n_clusters_range:\n",
    "    kmeans = KMeans(n_clusters=n_clusters, n_init=10)\n",
    "    kmeans.fit(city_features_scaled)\n",
    "    inertia_values.append(kmeans.inertia_)\n",
    "    \n",
    "    \n",
    "# Построение локтевого графика\n",
    "import matplotlib.pyplot as plt\n",
    "plt.plot(n_clusters_range, inertia_values, 'bx-')\n",
    "plt.xlabel('Число кластеров')\n",
    "plt.ylabel('Сумма квадратов расстояний')\n",
    "plt.title('Локтевой график')\n",
    "plt.show()"
   ]
  },
  {
   "cell_type": "markdown",
   "metadata": {},
   "source": [
    "### Кодирование категориальных признаков"
   ]
  },
  {
   "cell_type": "code",
   "execution_count": 59,
   "metadata": {},
   "outputs": [
    {
     "data": {
      "text/plain": [
       "Index(['city', 'state', 'target', 'fireplace_type', 'baths_num', 'beds_num',\n",
       "       'heating_type', 'parking_type', 'street_type', 'property_type',\n",
       "       'status_type'],\n",
       "      dtype='object')"
      ]
     },
     "execution_count": 59,
     "metadata": {},
     "output_type": "execute_result"
    }
   ],
   "source": [
    "data2.select_dtypes('object').columns"
   ]
  },
  {
   "cell_type": "code",
   "execution_count": 60,
   "metadata": {},
   "outputs": [
    {
     "name": "stdout",
     "output_type": "stream",
     "text": [
      "Размер датасета: (180486, 158)\n"
     ]
    }
   ],
   "source": [
    "# Мы не получили какого-то оптимального числа кластеров для кластеризации, чтобы можно было сократить число уникальных значений в признаке городов\n",
    "# В таком случае просто закодируем оригинальный признак \n",
    "import category_encoders as ce\n",
    "\n",
    "city_b_codes = ce.BinaryEncoder().fit_transform(data2['city'])\n",
    "# Промежуточные итоги по датасету:\n",
    "data2 = data2.drop(columns=['city', 'state', 'status_type'])\n",
    "\n",
    "data2 = pd.concat(\n",
    "    [data2,\n",
    "    city_b_codes,\n",
    "    state_dummies,\n",
    "    status_dummies],\n",
    "    axis=1\n",
    ")\n",
    "\n",
    "# Также закодируем другие категориальные признки\n",
    "rest_obj_col = list(data2.select_dtypes('object').columns)\n",
    "rest_obj_col.remove('target')\n",
    "\n",
    "data2 = pd.concat(\n",
    "    [data2,\n",
    "    pd.get_dummies(data2[rest_obj_col]),\n",
    "    ],\n",
    "    axis=1\n",
    ")\n",
    "\n",
    "data2.drop(columns=rest_obj_col, inplace=True)\n",
    "\n",
    "print('Размер датасета:', data2.shape)\n"
   ]
  },
  {
   "cell_type": "markdown",
   "metadata": {},
   "source": [
    "### Преобразование числовых признаков"
   ]
  },
  {
   "cell_type": "code",
   "execution_count": 61,
   "metadata": {},
   "outputs": [],
   "source": [
    "data2['stories_num'] = data2['stories_num'].astype(np.uint8)\n",
    "data2['min_grade'] = data2['min_grade'].astype(np.uint8)\n",
    "\n",
    "data2['mean_school_rating'] = data2['mean_school_rating'].apply(lambda x: round(x, 2)).astype(np.float16)\n",
    "data2['mean_school_distance'] = data2['mean_school_distance'].apply(lambda x: round(x, 2)).astype(np.float16)\n",
    "\n",
    "data2['grades_pk'] = data2['grades_pk'].astype(np.uint8)\n",
    "data2['grades_k'] = data2['grades_k'].astype(np.uint8)\n",
    "\n",
    "data2 ['age'] = data2['age'].astype(np.uint8)"
   ]
  },
  {
   "cell_type": "code",
   "execution_count": 62,
   "metadata": {},
   "outputs": [
    {
     "name": "stdout",
     "output_type": "stream",
     "text": [
      "target    object\n",
      "dtype: object\n"
     ]
    }
   ],
   "source": [
    "print(data2.select_dtypes(exclude='number').dtypes)\n",
    "\n",
    "# Остался один категориальный признак - целевой. Преобразуем его и сохраним отдельно\n",
    "target = data2['target']\n",
    "target = target.replace(r'[\\$|\\+]', '', regex=True).replace(r'(?<=\\d)\\,(?=\\d)', '', regex=True).apply(float)\n",
    "data2.drop('target', axis=1, inplace=True)"
   ]
  },
  {
   "cell_type": "code",
   "execution_count": 63,
   "metadata": {},
   "outputs": [],
   "source": [
    "data2.to_csv('data/ml/data2.csv')\n",
    "target.to_csv('data/ml/target.csv')"
   ]
  }
 ],
 "metadata": {
  "kernelspec": {
   "display_name": "Python 3",
   "language": "python",
   "name": "python3"
  },
  "language_info": {
   "codemirror_mode": {
    "name": "ipython",
    "version": 3
   },
   "file_extension": ".py",
   "mimetype": "text/x-python",
   "name": "python",
   "nbconvert_exporter": "python",
   "pygments_lexer": "ipython3",
   "version": "3.9.13"
  }
 },
 "nbformat": 4,
 "nbformat_minor": 2
}
