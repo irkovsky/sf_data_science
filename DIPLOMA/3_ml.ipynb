{
 "cells": [
  {
   "cell_type": "markdown",
   "metadata": {},
   "source": [
    "# Дипломный проект: Модель прогнозирования стоимости жилья для агентства недвижимости\n",
    "## Машинное обучение"
   ]
  },
  {
   "cell_type": "code",
   "execution_count": 26,
   "metadata": {},
   "outputs": [],
   "source": [
    "import pandas as pd\n",
    "import numpy as np"
   ]
  },
  {
   "cell_type": "code",
   "execution_count": 43,
   "metadata": {},
   "outputs": [
    {
     "data": {
      "text/html": [
       "<div>\n",
       "<style scoped>\n",
       "    .dataframe tbody tr th:only-of-type {\n",
       "        vertical-align: middle;\n",
       "    }\n",
       "\n",
       "    .dataframe tbody tr th {\n",
       "        vertical-align: top;\n",
       "    }\n",
       "\n",
       "    .dataframe thead th {\n",
       "        text-align: right;\n",
       "    }\n",
       "</style>\n",
       "<table border=\"1\" class=\"dataframe\">\n",
       "  <thead>\n",
       "    <tr style=\"text-align: right;\">\n",
       "      <th></th>\n",
       "      <th>sqft</th>\n",
       "      <th>zipcode</th>\n",
       "      <th>PrivatePool</th>\n",
       "      <th>stories_num</th>\n",
       "      <th>age</th>\n",
       "      <th>mean_school_rating</th>\n",
       "      <th>schools_number</th>\n",
       "      <th>mean_school_distance</th>\n",
       "      <th>grades_pk</th>\n",
       "      <th>grades_k</th>\n",
       "      <th>...</th>\n",
       "      <th>street_type_way</th>\n",
       "      <th>property_type_apartment</th>\n",
       "      <th>property_type_co op</th>\n",
       "      <th>property_type_condo</th>\n",
       "      <th>property_type_land</th>\n",
       "      <th>property_type_manufactured home</th>\n",
       "      <th>property_type_multi family</th>\n",
       "      <th>property_type_other</th>\n",
       "      <th>property_type_single family</th>\n",
       "      <th>property_type_townhome</th>\n",
       "    </tr>\n",
       "    <tr>\n",
       "      <th>Unnamed: 0</th>\n",
       "      <th></th>\n",
       "      <th></th>\n",
       "      <th></th>\n",
       "      <th></th>\n",
       "      <th></th>\n",
       "      <th></th>\n",
       "      <th></th>\n",
       "      <th></th>\n",
       "      <th></th>\n",
       "      <th></th>\n",
       "      <th></th>\n",
       "      <th></th>\n",
       "      <th></th>\n",
       "      <th></th>\n",
       "      <th></th>\n",
       "      <th></th>\n",
       "      <th></th>\n",
       "      <th></th>\n",
       "      <th></th>\n",
       "      <th></th>\n",
       "      <th></th>\n",
       "    </tr>\n",
       "  </thead>\n",
       "  <tbody>\n",
       "    <tr>\n",
       "      <th>1</th>\n",
       "      <td>7.000000</td>\n",
       "      <td>99216</td>\n",
       "      <td>0</td>\n",
       "      <td>2</td>\n",
       "      <td>4</td>\n",
       "      <td>4.00</td>\n",
       "      <td>3</td>\n",
       "      <td>1.33</td>\n",
       "      <td>1</td>\n",
       "      <td>0</td>\n",
       "      <td>...</td>\n",
       "      <td>0</td>\n",
       "      <td>0</td>\n",
       "      <td>0</td>\n",
       "      <td>0</td>\n",
       "      <td>0</td>\n",
       "      <td>0</td>\n",
       "      <td>0</td>\n",
       "      <td>0</td>\n",
       "      <td>1</td>\n",
       "      <td>0</td>\n",
       "    </tr>\n",
       "    <tr>\n",
       "      <th>2</th>\n",
       "      <td>30.502104</td>\n",
       "      <td>90049</td>\n",
       "      <td>1</td>\n",
       "      <td>1</td>\n",
       "      <td>62</td>\n",
       "      <td>6.67</td>\n",
       "      <td>3</td>\n",
       "      <td>1.96</td>\n",
       "      <td>0</td>\n",
       "      <td>1</td>\n",
       "      <td>...</td>\n",
       "      <td>0</td>\n",
       "      <td>0</td>\n",
       "      <td>0</td>\n",
       "      <td>0</td>\n",
       "      <td>0</td>\n",
       "      <td>0</td>\n",
       "      <td>0</td>\n",
       "      <td>0</td>\n",
       "      <td>1</td>\n",
       "      <td>0</td>\n",
       "    </tr>\n",
       "    <tr>\n",
       "      <th>3</th>\n",
       "      <td>7.000000</td>\n",
       "      <td>75205</td>\n",
       "      <td>0</td>\n",
       "      <td>3</td>\n",
       "      <td>17</td>\n",
       "      <td>9.25</td>\n",
       "      <td>4</td>\n",
       "      <td>0.75</td>\n",
       "      <td>1</td>\n",
       "      <td>0</td>\n",
       "      <td>...</td>\n",
       "      <td>0</td>\n",
       "      <td>0</td>\n",
       "      <td>0</td>\n",
       "      <td>0</td>\n",
       "      <td>0</td>\n",
       "      <td>0</td>\n",
       "      <td>0</td>\n",
       "      <td>0</td>\n",
       "      <td>1</td>\n",
       "      <td>0</td>\n",
       "    </tr>\n",
       "    <tr>\n",
       "      <th>9</th>\n",
       "      <td>1.930000</td>\n",
       "      <td>77080</td>\n",
       "      <td>0</td>\n",
       "      <td>2</td>\n",
       "      <td>4</td>\n",
       "      <td>3.00</td>\n",
       "      <td>3</td>\n",
       "      <td>1.07</td>\n",
       "      <td>1</td>\n",
       "      <td>0</td>\n",
       "      <td>...</td>\n",
       "      <td>0</td>\n",
       "      <td>0</td>\n",
       "      <td>0</td>\n",
       "      <td>0</td>\n",
       "      <td>0</td>\n",
       "      <td>0</td>\n",
       "      <td>0</td>\n",
       "      <td>0</td>\n",
       "      <td>1</td>\n",
       "      <td>0</td>\n",
       "    </tr>\n",
       "    <tr>\n",
       "      <th>12</th>\n",
       "      <td>9.000000</td>\n",
       "      <td>33028</td>\n",
       "      <td>1</td>\n",
       "      <td>1</td>\n",
       "      <td>27</td>\n",
       "      <td>7.33</td>\n",
       "      <td>3</td>\n",
       "      <td>2.04</td>\n",
       "      <td>1</td>\n",
       "      <td>0</td>\n",
       "      <td>...</td>\n",
       "      <td>0</td>\n",
       "      <td>0</td>\n",
       "      <td>0</td>\n",
       "      <td>0</td>\n",
       "      <td>0</td>\n",
       "      <td>0</td>\n",
       "      <td>0</td>\n",
       "      <td>0</td>\n",
       "      <td>1</td>\n",
       "      <td>0</td>\n",
       "    </tr>\n",
       "  </tbody>\n",
       "</table>\n",
       "<p>5 rows × 157 columns</p>\n",
       "</div>"
      ],
      "text/plain": [
       "                 sqft  zipcode  PrivatePool  stories_num  age  \\\n",
       "Unnamed: 0                                                      \n",
       "1            7.000000    99216            0            2    4   \n",
       "2           30.502104    90049            1            1   62   \n",
       "3            7.000000    75205            0            3   17   \n",
       "9            1.930000    77080            0            2    4   \n",
       "12           9.000000    33028            1            1   27   \n",
       "\n",
       "            mean_school_rating  schools_number  mean_school_distance  \\\n",
       "Unnamed: 0                                                             \n",
       "1                         4.00               3                  1.33   \n",
       "2                         6.67               3                  1.96   \n",
       "3                         9.25               4                  0.75   \n",
       "9                         3.00               3                  1.07   \n",
       "12                        7.33               3                  2.04   \n",
       "\n",
       "            grades_pk  grades_k  ...  street_type_way  \\\n",
       "Unnamed: 0                       ...                    \n",
       "1                   1         0  ...                0   \n",
       "2                   0         1  ...                0   \n",
       "3                   1         0  ...                0   \n",
       "9                   1         0  ...                0   \n",
       "12                  1         0  ...                0   \n",
       "\n",
       "            property_type_apartment  property_type_co op  property_type_condo  \\\n",
       "Unnamed: 0                                                                      \n",
       "1                                 0                    0                    0   \n",
       "2                                 0                    0                    0   \n",
       "3                                 0                    0                    0   \n",
       "9                                 0                    0                    0   \n",
       "12                                0                    0                    0   \n",
       "\n",
       "            property_type_land  property_type_manufactured home  \\\n",
       "Unnamed: 0                                                        \n",
       "1                            0                                0   \n",
       "2                            0                                0   \n",
       "3                            0                                0   \n",
       "9                            0                                0   \n",
       "12                           0                                0   \n",
       "\n",
       "            property_type_multi family  property_type_other  \\\n",
       "Unnamed: 0                                                    \n",
       "1                                    0                    0   \n",
       "2                                    0                    0   \n",
       "3                                    0                    0   \n",
       "9                                    0                    0   \n",
       "12                                   0                    0   \n",
       "\n",
       "            property_type_single family  property_type_townhome  \n",
       "Unnamed: 0                                                       \n",
       "1                                     1                       0  \n",
       "2                                     1                       0  \n",
       "3                                     1                       0  \n",
       "9                                     1                       0  \n",
       "12                                    1                       0  \n",
       "\n",
       "[5 rows x 157 columns]"
      ]
     },
     "metadata": {},
     "output_type": "display_data"
    },
    {
     "data": {
      "text/html": [
       "<div>\n",
       "<style scoped>\n",
       "    .dataframe tbody tr th:only-of-type {\n",
       "        vertical-align: middle;\n",
       "    }\n",
       "\n",
       "    .dataframe tbody tr th {\n",
       "        vertical-align: top;\n",
       "    }\n",
       "\n",
       "    .dataframe thead th {\n",
       "        text-align: right;\n",
       "    }\n",
       "</style>\n",
       "<table border=\"1\" class=\"dataframe\">\n",
       "  <thead>\n",
       "    <tr style=\"text-align: right;\">\n",
       "      <th></th>\n",
       "      <th>target</th>\n",
       "    </tr>\n",
       "  </thead>\n",
       "  <tbody>\n",
       "    <tr>\n",
       "      <th>0</th>\n",
       "      <td>310000.0</td>\n",
       "    </tr>\n",
       "    <tr>\n",
       "      <th>1</th>\n",
       "      <td>2895000.0</td>\n",
       "    </tr>\n",
       "    <tr>\n",
       "      <th>2</th>\n",
       "      <td>2395000.0</td>\n",
       "    </tr>\n",
       "    <tr>\n",
       "      <th>3</th>\n",
       "      <td>311995.0</td>\n",
       "    </tr>\n",
       "    <tr>\n",
       "      <th>4</th>\n",
       "      <td>525000.0</td>\n",
       "    </tr>\n",
       "  </tbody>\n",
       "</table>\n",
       "</div>"
      ],
      "text/plain": [
       "      target\n",
       "0   310000.0\n",
       "1  2895000.0\n",
       "2  2395000.0\n",
       "3   311995.0\n",
       "4   525000.0"
      ]
     },
     "metadata": {},
     "output_type": "display_data"
    }
   ],
   "source": [
    "data2 = pd.read_csv('data/ml/data2.csv')\n",
    "target = pd.read_csv('data/ml/target.csv')\n",
    "\n",
    "data2.set_index(data2.columns[0], inplace=True)\n",
    "display(data2.head())\n",
    "\n",
    "target = target.drop(target.columns[0], axis=1)\n",
    "display(target.head())\n"
   ]
  },
  {
   "cell_type": "markdown",
   "metadata": {},
   "source": [
    "## Машинное обучение: подбор оптимальной модели "
   ]
  },
  {
   "cell_type": "code",
   "execution_count": 48,
   "metadata": {},
   "outputs": [],
   "source": [
    "from sklearn.model_selection import train_test_split\n",
    "\n",
    "# Разделение выборки на обучающую и тестовую\n",
    "X_train, X_test, y_train, y_test = train_test_split(data2, target.values.reshape((len(target),)), test_size=0.3, random_state=42)\n"
   ]
  },
  {
   "cell_type": "code",
   "execution_count": 51,
   "metadata": {},
   "outputs": [],
   "source": [
    "from sklearn.preprocessing import StandardScaler, MinMaxScaler\n",
    "\n",
    "# Шкалирование данных\n",
    "scaler = MinMaxScaler()\n",
    "X_train_scaled = scaler.fit_transform(X_train)\n",
    "X_test_scaled = scaler.transform(X_test)"
   ]
  },
  {
   "cell_type": "markdown",
   "metadata": {},
   "source": [
    "### Линейная и полиномиальная регрессия"
   ]
  },
  {
   "cell_type": "code",
   "execution_count": 30,
   "metadata": {},
   "outputs": [
    {
     "name": "stdout",
     "output_type": "stream",
     "text": [
      "R^2 для обучающего набора данных: 0.20862092415078093\n",
      "R^2 для тестового набора данных: 0.21835417263592094\n"
     ]
    }
   ],
   "source": [
    "from sklearn.linear_model import LinearRegression\n",
    "from sklearn.metrics import r2_score\n",
    "\n",
    "# Создание и обучение модели\n",
    "model = LinearRegression()\n",
    "model.fit(X_train_scaled, y_train)\n",
    "\n",
    "# Предсказание для обучающего набора данных\n",
    "y_train_pred = model.predict(X_train_scaled)\n",
    "r2_train = r2_score(y_train, y_train_pred)\n",
    "print(\"R^2 для обучающего набора данных:\", r2_train)\n",
    "\n",
    "# Предсказание для тестового набора данных\n",
    "y_test_pred = model.predict(X_test_scaled)\n",
    "r2_test = r2_score(y_test, y_test_pred)\n",
    "print(\"R^2 для тестового набора данных:\", r2_test)\n",
    "\n",
    "# Получили очень низкие значение - недообучение\n",
    "# R^2 для обучающего набора данных: 0.20862092415078093\n",
    "# R^2 для тестового набора данных: 0.21835417263592094"
   ]
  },
  {
   "cell_type": "code",
   "execution_count": 52,
   "metadata": {},
   "outputs": [
    {
     "name": "stdout",
     "output_type": "stream",
     "text": [
      "(126340, 25)\n"
     ]
    }
   ],
   "source": [
    "from sklearn.feature_selection import SelectKBest\n",
    "from sklearn.feature_selection import f_regression\n",
    "\n",
    "# Отберем несколько (k) самых значимых признаков с помощью объекта SelectKBest\n",
    "selector = SelectKBest(score_func=f_regression, k=25) \n",
    "\n",
    "# Преобразование данных с использованием SelectKBest на обучающей выборке\n",
    "X_train_selected = selector.fit_transform(X_train, y_train)\n",
    "print(X_train_selected.shape)\n",
    "\n",
    "# Преобразование данных с использованием SelectKBest на тестовой выборке\n",
    "X_test_selected = selector.transform(X_test)"
   ]
  },
  {
   "cell_type": "code",
   "execution_count": 53,
   "metadata": {},
   "outputs": [
    {
     "name": "stdout",
     "output_type": "stream",
     "text": [
      "R^2 для обучающего набора данных: 0.34705454030929583\n",
      "R^2 для тестового набора данных: 0.31259858893797554\n"
     ]
    }
   ],
   "source": [
    "# Попробуем полиномиальную регрессию \n",
    "from sklearn.preprocessing import PolynomialFeatures\n",
    "from sklearn.metrics import r2_score\n",
    "\n",
    "# Создание полиномиальных признаков\n",
    "poly_features = PolynomialFeatures(degree=2)\n",
    "# Будем использовать только важные признаки, полученные через SelectKBest\n",
    "X_train_poly = poly_features.fit_transform(X_train_selected)\n",
    "X_test_poly = poly_features.transform(X_test_selected)\n",
    "\n",
    "# Создание и обучение модели полиномиальной регрессии\n",
    "model = LinearRegression()\n",
    "model.fit(X_train_poly, y_train)\n",
    "\n",
    "# Предсказание для обучающего набора данных\n",
    "y_train_pred = model.predict(X_train_poly)\n",
    "r2_train = r2_score(y_train, y_train_pred)\n",
    "print(\"R^2 для обучающего набора данных:\", r2_train)\n",
    "\n",
    "# Предсказание для тестового набора данных\n",
    "y_test_pred = model.predict(X_test_poly)\n",
    "r2_test = r2_score(y_test, y_test_pred)\n",
    "print(\"R^2 для тестового набора данных:\", r2_test)\n",
    "\n",
    "# Снова низкий результат, причем есть признак переобучения\n",
    "# R^2 для обучающего набора данных: 0.34705454030929583\n",
    "# R^2 для тестового набора данных: 0.31259858893797554"
   ]
  },
  {
   "cell_type": "code",
   "execution_count": 54,
   "metadata": {},
   "outputs": [
    {
     "name": "stdout",
     "output_type": "stream",
     "text": [
      "R^2 для обучающего набора данных: 0.3470509728054677\n",
      "R^2 для тестового набора данных: 0.35181643386461203\n"
     ]
    }
   ],
   "source": [
    "from sklearn.linear_model import Ridge\n",
    "\n",
    "# Попробуем модель полиномиальной регрессии с регуляризацией\n",
    "alpha = 0.1 \n",
    "model = Ridge(alpha=alpha)\n",
    "model.fit(X_train_poly, y_train)\n",
    "\n",
    "# Предсказание для обучающего набора данных\n",
    "y_train_pred = model.predict(X_train_poly)\n",
    "r2_train = r2_score(y_train, y_train_pred)\n",
    "print(\"R^2 для обучающего набора данных:\", r2_train)\n",
    "\n",
    "# Предсказание для тестового набора данных\n",
    "y_test_pred = model.predict(X_test_poly)\n",
    "r2_test = r2_score(y_test, y_test_pred)\n",
    "print(\"R^2 для тестового набора данных:\", r2_test)\n",
    "\n",
    "# Переобучения нет, но результат низкий. Поищем другие модели\n",
    "# R^2 для обучающего набора данных: 0.3470509728054677\n",
    "# R^2 для тестового набора данных: 0.35181643386461203"
   ]
  },
  {
   "cell_type": "markdown",
   "metadata": {},
   "source": [
    "### Лес решений"
   ]
  },
  {
   "cell_type": "code",
   "execution_count": 55,
   "metadata": {},
   "outputs": [
    {
     "name": "stdout",
     "output_type": "stream",
     "text": [
      "r2 на обучающей выборке: 0.3097438800279121\n",
      "r2 на тестовой выборке: 0.3151616787157414\n"
     ]
    }
   ],
   "source": [
    "from sklearn.ensemble import RandomForestRegressor\n",
    "from sklearn.metrics import r2_score\n",
    "\n",
    "model_rf = RandomForestRegressor(n_estimators=100, max_depth=5, min_samples_leaf=100)\n",
    "model_rf.fit(X_train, y_train)\n",
    "\n",
    "# Предсказание на тестовой выборке\n",
    "y_pred = model_rf.predict(X_test)\n",
    "\n",
    "# Расчет метрик для обучающей и тестовой выборок\n",
    "train_r2 = r2_score(y_train, model_rf.predict(X_train))\n",
    "test_r2 = r2_score(y_test, y_pred)\n",
    "\n",
    "print(\"r2 на обучающей выборке:\", train_r2)\n",
    "print(\"r2 на тестовой выборке:\", test_r2)\n",
    "\n",
    "# Снова низкий результат\n",
    "# r2 на обучающей выборке: 0.3097438800279121\n",
    "# r2 на тестовой выборке: 0.3151616787157414"
   ]
  },
  {
   "cell_type": "code",
   "execution_count": 56,
   "metadata": {},
   "outputs": [
    {
     "name": "stdout",
     "output_type": "stream",
     "text": [
      "Топ-20 важных признаков:\n",
      " Index(['beds_num_others', 'CA', 'PrivatePool', 'zipcode', 'baths_num_others',\n",
      "       'beds_num_5.0', 'stories_num', 'mean_school_rating', 'NY',\n",
      "       'mean_school_distance', 'beds_num_2.0', 'beds_num_3.0', 'sqft',\n",
      "       'baths_num_2.0', 'age', 'city_8', 'city_6', 'grades_k', 'city_4',\n",
      "       'city_7'],\n",
      "      dtype='object')\n"
     ]
    }
   ],
   "source": [
    "# Получение важности признаков\n",
    "feature_importance = model_rf.feature_importances_\n",
    "# Сортировка признаков по их важности\n",
    "sorted_indices = feature_importance.argsort()[::-1]\n",
    "# Получение имен признаков в порядке убывания важности\n",
    "selected_features = data2.columns[sorted_indices]\n",
    "\n",
    "print('Топ-20 важных признаков:\\n', selected_features[:20])\n",
    "# Сделаем обучающую и тестовую подвыборки из важных признаков\n",
    "X_train_fi = X_train[selected_features[:20]]\n",
    "X_test_fi = X_test[selected_features[:20]]"
   ]
  },
  {
   "cell_type": "code",
   "execution_count": 57,
   "metadata": {},
   "outputs": [
    {
     "name": "stdout",
     "output_type": "stream",
     "text": [
      "r2 на обучающей выборке: 0.30768028721556606\n",
      "r2 на тестовой выборке: 0.314368903535059\n"
     ]
    }
   ],
   "source": [
    "# Попробуем модель случайного леса на подвыборке 20 важных признаков\n",
    "model_rf_fi = RandomForestRegressor(n_estimators=100, max_depth=5, min_samples_leaf=100)\n",
    "model_rf_fi.fit(X_train_fi, y_train)\n",
    "\n",
    "# Расчет метрик для обучающей и тестовой выборок\n",
    "train_r2 = r2_score(y_train, model_rf_fi.predict(X_train_fi))\n",
    "test_r2 = r2_score(y_test, model_rf_fi.predict(X_test_fi))\n",
    "\n",
    "print(\"r2 на обучающей выборке:\", train_r2)\n",
    "print(\"r2 на тестовой выборке:\", test_r2)\n",
    "\n",
    "# Получили те же результаты, но быстрее\n",
    "# r2 на обучающей выборке: 0.30768028721556606\n",
    "# r2 на тестовой выборке: 0.314368903535059"
   ]
  },
  {
   "cell_type": "code",
   "execution_count": 58,
   "metadata": {},
   "outputs": [
    {
     "name": "stderr",
     "output_type": "stream",
     "text": [
      "c:\\Users\\Питерские котики\\AppData\\Local\\Programs\\Python\\Python39\\lib\\site-packages\\sklearn\\model_selection\\_search.py:305: UserWarning: The total space of parameters 8 is smaller than n_iter=10. Running 8 iterations. For exhaustive searches, use GridSearchCV.\n",
      "  warnings.warn(\n"
     ]
    },
    {
     "name": "stdout",
     "output_type": "stream",
     "text": [
      "Оптимальные параметры: {'n_estimators': 50, 'min_samples_split': 50, 'max_depth': 5}\n"
     ]
    }
   ],
   "source": [
    "from sklearn.model_selection import RandomizedSearchCV\n",
    "\n",
    "# Определение набора параметров для поиска\n",
    "param_grid = {\n",
    "    'n_estimators': [50, 100],\n",
    "    'max_depth': [3, 5],\n",
    "    'min_samples_split': [50, 100]\n",
    "}\n",
    "\n",
    "# Создание модели градиентного бустинга\n",
    "model_rf_grid = RandomForestRegressor()\n",
    "\n",
    "# Инициализация RandomizedSearchCV\n",
    "random_search = RandomizedSearchCV(model_rf_grid, param_grid, n_iter=10)\n",
    "# cv=5)\n",
    "\n",
    "# Запуск поиска оптимальных параметров по выборке из 20 важных признаков\n",
    "random_search.fit(X_train_fi, y_train)\n",
    "\n",
    "# Вывод оптимальных параметров\n",
    "print(\"Оптимальные параметры:\", random_search.best_params_)\n",
    "\n",
    "# Оптимальные параметры: {'n_estimators': 50, 'min_samples_split': 50, 'max_depth': 5} - 8min 30sec."
   ]
  },
  {
   "cell_type": "code",
   "execution_count": 59,
   "metadata": {},
   "outputs": [
    {
     "name": "stdout",
     "output_type": "stream",
     "text": [
      "r2 на обучающей выборке: 0.37483953902491607\n",
      "r2 на тестовой выборке: 0.3823269605487024\n"
     ]
    }
   ],
   "source": [
    "model_rf_fi = RandomForestRegressor(n_estimators=50, max_depth=5, min_samples_leaf=50)\n",
    "model_rf_fi.fit(X_train_fi, y_train)\n",
    "\n",
    "# Расчет метрик для обучающей и тестовой выборок\n",
    "train_r2 = r2_score(y_train, model_rf_fi.predict(X_train_fi))\n",
    "test_r2 = r2_score(y_test, model_rf_fi.predict(X_test_fi))\n",
    "\n",
    "print(\"r2 на обучающей выборке:\", train_r2)\n",
    "print(\"r2 на тестовой выборке:\", test_r2)\n",
    "\n",
    "# r2 на обучающей выборке: 0.37483953902491607\n",
    "# r2 на тестовой выборке: 0.3823269605487024\n",
    "# Получили результат чуть выше"
   ]
  },
  {
   "cell_type": "code",
   "execution_count": 60,
   "metadata": {},
   "outputs": [
    {
     "name": "stdout",
     "output_type": "stream",
     "text": [
      "Оптимальные параметры: {'n_estimators': 50, 'min_samples_split': 20, 'max_depth': 8}\n"
     ]
    }
   ],
   "source": [
    "# Попробуем, вместо отсеивания признаков, использовать подвыборку строк\n",
    "# Увеличим набор параметров для поиска\n",
    "param_grid = {\n",
    "    'n_estimators': [30, 50, 100],\n",
    "    'max_depth': [3, 5, 8],\n",
    "    'min_samples_split': [20, 50, 100]\n",
    "}\n",
    "\n",
    "# Создание модели градиентного бустинга\n",
    "model_rf_grid = RandomForestRegressor()\n",
    "\n",
    "# Инициализация RandomizedSearchCV\n",
    "random_search = RandomizedSearchCV(model_rf_grid, param_grid, n_iter=10)\n",
    "# cv=5)\n",
    "\n",
    "# Запуск поиска оптимальных параметров\n",
    "random_search.fit(X_train[:10000], y_train[:10000])\n",
    "\n",
    "# Вывод оптимальных параметров\n",
    "print(\"Оптимальные параметры:\", random_search.best_params_)\n",
    "\n",
    "# Оптимальные параметры: {'n_estimators': 50, 'min_samples_split': 20, 'max_depth': 8} - 1min  43sec"
   ]
  },
  {
   "cell_type": "code",
   "execution_count": 64,
   "metadata": {},
   "outputs": [
    {
     "name": "stdout",
     "output_type": "stream",
     "text": [
      "r2 на обучающей выборке: 0.6239188120512653\n",
      "r2 на тестовой выборке: 0.5080652367181127\n"
     ]
    }
   ],
   "source": [
    "model_rf_row_slice = RandomForestRegressor(**random_search.best_params_)\n",
    "model_rf_row_slice.fit(X_train, y_train)\n",
    "\n",
    "# Расчет метрик для обучающей и тестовой выборок\n",
    "train_r2 = r2_score(y_train, model_rf_row_slice.predict(X_train))\n",
    "test_r2 = r2_score(y_test, model_rf_row_slice.predict(X_test))\n",
    "\n",
    "print(\"r2 на обучающей выборке:\", train_r2)\n",
    "print(\"r2 на тестовой выборке:\", test_r2)\n",
    "\n",
    "# r2 на обучающей выборке: 0.6239188120512653\n",
    "# r2 на тестовой выборке: 0.5080652367181127"
   ]
  },
  {
   "cell_type": "markdown",
   "metadata": {},
   "source": [
    "### Градиентный бустинг"
   ]
  },
  {
   "cell_type": "code",
   "execution_count": 65,
   "metadata": {},
   "outputs": [
    {
     "name": "stdout",
     "output_type": "stream",
     "text": [
      "R2 на обучающей выборке: 0.843288611434015\n",
      "R2 на тестовой выборке: 0.5716147208646325\n"
     ]
    }
   ],
   "source": [
    "\n",
    "from sklearn.ensemble import GradientBoostingRegressor\n",
    "\n",
    "# Создание и обучение модели градиентного бустинга\n",
    "model_gb = GradientBoostingRegressor(n_estimators=50, learning_rate=0.1, max_depth=8, min_samples_split=20)\n",
    "model_gb.fit(X_train, y_train)\n",
    "\n",
    "# Предсказание на обучающей и тестовой выборке\n",
    "y_train_pred = model_gb.predict(X_train)\n",
    "y_test_pred = model_gb.predict(X_test)\n",
    "\n",
    "# Вычисление метрики R2 на обучающей и тестовой выборке\n",
    "r2_train = r2_score(y_train, y_train_pred)\n",
    "r2_test = r2_score(y_test, y_test_pred)\n",
    "\n",
    "print(\"R2 на обучающей выборке:\", r2_train)\n",
    "print(\"R2 на тестовой выборке:\", r2_test)\n",
    "\n",
    "# R2 на обучающей выборке: 0.843288611434015\n",
    "# R2 на тестовой выборке: 0.5716147208646325\n",
    "# Результат лучше, но переобучение"
   ]
  },
  {
   "cell_type": "code",
   "execution_count": 66,
   "metadata": {},
   "outputs": [
    {
     "name": "stdout",
     "output_type": "stream",
     "text": [
      "Оптимальные параметры: {'n_estimators': 50, 'min_samples_split': 20, 'max_depth': 5, 'learning_rate': 0.1}\n"
     ]
    }
   ],
   "source": [
    "# Определение набора параметров для поиска\n",
    "param_grid = {\n",
    "    'learning_rate': [0.1, 0.01],\n",
    "    'n_estimators': [30, 50, 100],\n",
    "    'max_depth': [3, 5, 8],\n",
    "    'min_samples_split': [20, 50, 100]\n",
    "}\n",
    "\n",
    "# Создание модели градиентного бустинга\n",
    "model_gb_grid = GradientBoostingRegressor()\n",
    "\n",
    "# Инициализация RandomizedSearchCV\n",
    "random_search = RandomizedSearchCV(model_gb_grid, param_grid, n_iter=10)\n",
    "# cv=5)\n",
    "\n",
    "# Запуск поиска оптимальных параметров\n",
    "# Снова будем использовать часть строк, чтобы сократить время работы алгоритма\n",
    "random_search.fit(X_train[:10000], y_train[:10000])\n",
    "\n",
    "# Вывод оптимальных параметров\n",
    "print(\"Оптимальные параметры:\", random_search.best_params_)\n",
    "# Оптимальные параметры: {'n_estimators': 100, 'min_samples_split': 20, 'max_depth': 5, 'learning_rate': 0.1} - 4 min\n"
   ]
  },
  {
   "cell_type": "code",
   "execution_count": null,
   "metadata": {},
   "outputs": [
    {
     "name": "stdout",
     "output_type": "stream",
     "text": [
      "R2 на обучающей выборке: 0.6903700961853294\n",
      "R2 на тестовой выборке: 0.5799659436741886\n"
     ]
    }
   ],
   "source": [
    "# Создание и обучение модели градиентного бустинга\n",
    "model_gb_opt = GradientBoostingRegressor(n_estimators=100, learning_rate=0.1, max_depth=5, min_samples_split=20)\n",
    "model_gb_opt.fit(X_train, y_train)\n",
    "\n",
    "# Предсказание на обучающей и тестовой выборке\n",
    "y_train_pred = model_gb_opt.predict(X_train)\n",
    "y_test_pred = model_gb_opt.predict(X_test)\n",
    "\n",
    "# Вычисление метрики R2 на обучающей и тестовой выборке\n",
    "r2_train = r2_score(y_train, y_train_pred)\n",
    "r2_test = r2_score(y_test, y_test_pred)\n",
    "\n",
    "print(\"R2 на обучающей выборке:\", r2_train)\n",
    "print(\"R2 на тестовой выборке:\", r2_test)"
   ]
  },
  {
   "cell_type": "code",
   "execution_count": null,
   "metadata": {},
   "outputs": [],
   "source": [
    "# Остановимся на самой последней модели, сохраним ее в файл\n",
    "import pickle\n",
    "\n",
    "# Сохранение модели в файл\n",
    "with open('model.pkl', 'wb') as file:\n",
    "    pickle.dump(model_gb_opt, file)"
   ]
  }
 ],
 "metadata": {
  "kernelspec": {
   "display_name": "Python 3",
   "language": "python",
   "name": "python3"
  },
  "language_info": {
   "codemirror_mode": {
    "name": "ipython",
    "version": 3
   },
   "file_extension": ".py",
   "mimetype": "text/x-python",
   "name": "python",
   "nbconvert_exporter": "python",
   "pygments_lexer": "ipython3",
   "version": "3.9.13"
  }
 },
 "nbformat": 4,
 "nbformat_minor": 2
}
