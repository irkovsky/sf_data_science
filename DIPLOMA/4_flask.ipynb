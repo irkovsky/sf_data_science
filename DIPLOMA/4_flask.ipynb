{
 "cells": [
  {
   "cell_type": "markdown",
   "metadata": {},
   "source": [
    "# Дипломный проект: Модель прогнозирования стоимости жилья для агентства недвижимости"
   ]
  },
  {
   "cell_type": "markdown",
   "metadata": {},
   "source": [
    "## Веб-приложение Flask для обработки запросов веб-сервиса"
   ]
  },
  {
   "cell_type": "markdown",
   "metadata": {},
   "source": [
    "Данный код представляет собой веб-сервер, который принимает POST-запросы по адресу вида 'http://адрес_сервера/predict' и возвращает прогноз стоимости недвижимости на основе предварительно обученной модели машинного обучения. Модель загружается из файла 'model.pkl'. Полученные данные передаются в модель, которая возвращает прогноз. Прогноз возвращается в формате JSON в ответ на запрос."
   ]
  },
  {
   "cell_type": "code",
   "execution_count": 1,
   "metadata": {},
   "outputs": [],
   "source": [
    "from flask import Flask, request\n",
    "import pickle\n",
    "\n",
    "app = Flask(__name__)\n",
    "\n",
    "# Загрузка модели из файла\n",
    "with open('model.pkl', 'rb') as file:\n",
    "    model = pickle.load(file)\n",
    "\n",
    "\n",
    "@app.route('/predict', methods=['POST'])\n",
    "def predict():\n",
    "    # Получаем входные данные о недвижимости из запроса\n",
    "    data = request.get_json()  \n",
    "    # Передаем данные в вашу модель для получения прогноза стоимости\n",
    "    prediction = model.predict(data)\n",
    "    # Возвращаем прогноз стоимости в ответ на запрос\n",
    "    return {'prediction': prediction}\n",
    "\n",
    "\n",
    "if __name__ == 'main':\n",
    "    app.run()"
   ]
  }
 ],
 "metadata": {
  "kernelspec": {
   "display_name": "Python 3",
   "language": "python",
   "name": "python3"
  },
  "language_info": {
   "codemirror_mode": {
    "name": "ipython",
    "version": 3
   },
   "file_extension": ".py",
   "mimetype": "text/x-python",
   "name": "python",
   "nbconvert_exporter": "python",
   "pygments_lexer": "ipython3",
   "version": "3.9.13"
  }
 },
 "nbformat": 4,
 "nbformat_minor": 2
}
